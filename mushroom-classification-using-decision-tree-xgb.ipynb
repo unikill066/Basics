{
 "cells": [
  {
   "cell_type": "code",
   "execution_count": 1,
   "id": "cbe26724",
   "metadata": {
    "_cell_guid": "b1076dfc-b9ad-4769-8c92-a6c4dae69d19",
    "_uuid": "8f2839f25d086af736a60e9eeb907d3b93b6e0e5",
    "execution": {
     "iopub.execute_input": "2021-08-28T05:49:38.570821Z",
     "iopub.status.busy": "2021-08-28T05:49:38.569782Z",
     "iopub.status.idle": "2021-08-28T05:49:39.626656Z",
     "shell.execute_reply": "2021-08-28T05:49:39.625503Z",
     "shell.execute_reply.started": "2021-08-28T05:35:30.890060Z"
    },
    "papermill": {
     "duration": 1.102586,
     "end_time": "2021-08-28T05:49:39.626847",
     "exception": false,
     "start_time": "2021-08-28T05:49:38.524261",
     "status": "completed"
    },
    "tags": []
   },
   "outputs": [
    {
     "name": "stdout",
     "output_type": "stream",
     "text": [
      "/kaggle/input/mushroom-classification/mushrooms.csv\n"
     ]
    }
   ],
   "source": [
    "# Imports\n",
    "import numpy as np, pandas as pd, os, seaborn as sns, matplotlib.pyplot as plt\n",
    "\n",
    "\n",
    "# Loading data from kaggle\n",
    "for dirname, _, filenames in os.walk('/kaggle/input'):\n",
    "    for filename in filenames:\n",
    "        print(os.path.join(dirname, filename))"
   ]
  },
  {
   "cell_type": "code",
   "execution_count": 2,
   "id": "232b9060",
   "metadata": {
    "execution": {
     "iopub.execute_input": "2021-08-28T05:49:39.687722Z",
     "iopub.status.busy": "2021-08-28T05:49:39.686986Z",
     "iopub.status.idle": "2021-08-28T05:49:39.727652Z",
     "shell.execute_reply": "2021-08-28T05:49:39.726943Z",
     "shell.execute_reply.started": "2021-08-28T05:35:31.318654Z"
    },
    "papermill": {
     "duration": 0.072788,
     "end_time": "2021-08-28T05:49:39.727801",
     "exception": false,
     "start_time": "2021-08-28T05:49:39.655013",
     "status": "completed"
    },
    "tags": []
   },
   "outputs": [],
   "source": [
    "# Defining a pandas dataframe \n",
    "df = pd.read_csv(r'/kaggle/input/mushroom-classification/mushrooms.csv')"
   ]
  },
  {
   "cell_type": "code",
   "execution_count": 3,
   "id": "2f0a0749",
   "metadata": {
    "execution": {
     "iopub.execute_input": "2021-08-28T05:49:39.790982Z",
     "iopub.status.busy": "2021-08-28T05:49:39.790191Z",
     "iopub.status.idle": "2021-08-28T05:49:39.793476Z",
     "shell.execute_reply": "2021-08-28T05:49:39.794057Z",
     "shell.execute_reply.started": "2021-08-28T05:35:31.354257Z"
    },
    "papermill": {
     "duration": 0.039082,
     "end_time": "2021-08-28T05:49:39.794223",
     "exception": false,
     "start_time": "2021-08-28T05:49:39.755141",
     "status": "completed"
    },
    "tags": []
   },
   "outputs": [
    {
     "data": {
      "text/plain": [
       "(8124, 23)"
      ]
     },
     "execution_count": 3,
     "metadata": {},
     "output_type": "execute_result"
    }
   ],
   "source": [
    "# EDA;\n",
    "df.shape # total rows --> 8124"
   ]
  },
  {
   "cell_type": "code",
   "execution_count": 4,
   "id": "6c041b9a",
   "metadata": {
    "execution": {
     "iopub.execute_input": "2021-08-28T05:49:39.854790Z",
     "iopub.status.busy": "2021-08-28T05:49:39.853990Z",
     "iopub.status.idle": "2021-08-28T05:49:39.895466Z",
     "shell.execute_reply": "2021-08-28T05:49:39.894864Z",
     "shell.execute_reply.started": "2021-08-28T05:35:31.364372Z"
    },
    "papermill": {
     "duration": 0.073809,
     "end_time": "2021-08-28T05:49:39.895610",
     "exception": false,
     "start_time": "2021-08-28T05:49:39.821801",
     "status": "completed"
    },
    "tags": []
   },
   "outputs": [
    {
     "data": {
      "text/html": [
       "<div>\n",
       "<style scoped>\n",
       "    .dataframe tbody tr th:only-of-type {\n",
       "        vertical-align: middle;\n",
       "    }\n",
       "\n",
       "    .dataframe tbody tr th {\n",
       "        vertical-align: top;\n",
       "    }\n",
       "\n",
       "    .dataframe thead th {\n",
       "        text-align: right;\n",
       "    }\n",
       "</style>\n",
       "<table border=\"1\" class=\"dataframe\">\n",
       "  <thead>\n",
       "    <tr style=\"text-align: right;\">\n",
       "      <th></th>\n",
       "      <th>class</th>\n",
       "      <th>cap-shape</th>\n",
       "      <th>cap-surface</th>\n",
       "      <th>cap-color</th>\n",
       "      <th>bruises</th>\n",
       "      <th>odor</th>\n",
       "      <th>gill-attachment</th>\n",
       "      <th>gill-spacing</th>\n",
       "      <th>gill-size</th>\n",
       "      <th>gill-color</th>\n",
       "      <th>...</th>\n",
       "      <th>stalk-surface-below-ring</th>\n",
       "      <th>stalk-color-above-ring</th>\n",
       "      <th>stalk-color-below-ring</th>\n",
       "      <th>veil-type</th>\n",
       "      <th>veil-color</th>\n",
       "      <th>ring-number</th>\n",
       "      <th>ring-type</th>\n",
       "      <th>spore-print-color</th>\n",
       "      <th>population</th>\n",
       "      <th>habitat</th>\n",
       "    </tr>\n",
       "  </thead>\n",
       "  <tbody>\n",
       "    <tr>\n",
       "      <th>0</th>\n",
       "      <td>p</td>\n",
       "      <td>x</td>\n",
       "      <td>s</td>\n",
       "      <td>n</td>\n",
       "      <td>t</td>\n",
       "      <td>p</td>\n",
       "      <td>f</td>\n",
       "      <td>c</td>\n",
       "      <td>n</td>\n",
       "      <td>k</td>\n",
       "      <td>...</td>\n",
       "      <td>s</td>\n",
       "      <td>w</td>\n",
       "      <td>w</td>\n",
       "      <td>p</td>\n",
       "      <td>w</td>\n",
       "      <td>o</td>\n",
       "      <td>p</td>\n",
       "      <td>k</td>\n",
       "      <td>s</td>\n",
       "      <td>u</td>\n",
       "    </tr>\n",
       "    <tr>\n",
       "      <th>1</th>\n",
       "      <td>e</td>\n",
       "      <td>x</td>\n",
       "      <td>s</td>\n",
       "      <td>y</td>\n",
       "      <td>t</td>\n",
       "      <td>a</td>\n",
       "      <td>f</td>\n",
       "      <td>c</td>\n",
       "      <td>b</td>\n",
       "      <td>k</td>\n",
       "      <td>...</td>\n",
       "      <td>s</td>\n",
       "      <td>w</td>\n",
       "      <td>w</td>\n",
       "      <td>p</td>\n",
       "      <td>w</td>\n",
       "      <td>o</td>\n",
       "      <td>p</td>\n",
       "      <td>n</td>\n",
       "      <td>n</td>\n",
       "      <td>g</td>\n",
       "    </tr>\n",
       "    <tr>\n",
       "      <th>2</th>\n",
       "      <td>e</td>\n",
       "      <td>b</td>\n",
       "      <td>s</td>\n",
       "      <td>w</td>\n",
       "      <td>t</td>\n",
       "      <td>l</td>\n",
       "      <td>f</td>\n",
       "      <td>c</td>\n",
       "      <td>b</td>\n",
       "      <td>n</td>\n",
       "      <td>...</td>\n",
       "      <td>s</td>\n",
       "      <td>w</td>\n",
       "      <td>w</td>\n",
       "      <td>p</td>\n",
       "      <td>w</td>\n",
       "      <td>o</td>\n",
       "      <td>p</td>\n",
       "      <td>n</td>\n",
       "      <td>n</td>\n",
       "      <td>m</td>\n",
       "    </tr>\n",
       "  </tbody>\n",
       "</table>\n",
       "<p>3 rows × 23 columns</p>\n",
       "</div>"
      ],
      "text/plain": [
       "  class cap-shape cap-surface cap-color bruises odor gill-attachment  \\\n",
       "0     p         x           s         n       t    p               f   \n",
       "1     e         x           s         y       t    a               f   \n",
       "2     e         b           s         w       t    l               f   \n",
       "\n",
       "  gill-spacing gill-size gill-color  ... stalk-surface-below-ring  \\\n",
       "0            c         n          k  ...                        s   \n",
       "1            c         b          k  ...                        s   \n",
       "2            c         b          n  ...                        s   \n",
       "\n",
       "  stalk-color-above-ring stalk-color-below-ring veil-type veil-color  \\\n",
       "0                      w                      w         p          w   \n",
       "1                      w                      w         p          w   \n",
       "2                      w                      w         p          w   \n",
       "\n",
       "  ring-number ring-type spore-print-color population habitat  \n",
       "0           o         p                 k          s       u  \n",
       "1           o         p                 n          n       g  \n",
       "2           o         p                 n          n       m  \n",
       "\n",
       "[3 rows x 23 columns]"
      ]
     },
     "execution_count": 4,
     "metadata": {},
     "output_type": "execute_result"
    }
   ],
   "source": [
    "df.head(3)"
   ]
  },
  {
   "cell_type": "code",
   "execution_count": 5,
   "id": "a5ab3b77",
   "metadata": {
    "execution": {
     "iopub.execute_input": "2021-08-28T05:49:39.965923Z",
     "iopub.status.busy": "2021-08-28T05:49:39.964851Z",
     "iopub.status.idle": "2021-08-28T05:49:40.103807Z",
     "shell.execute_reply": "2021-08-28T05:49:40.104275Z",
     "shell.execute_reply.started": "2021-08-28T05:35:31.394511Z"
    },
    "papermill": {
     "duration": 0.180544,
     "end_time": "2021-08-28T05:49:40.104471",
     "exception": false,
     "start_time": "2021-08-28T05:49:39.923927",
     "status": "completed"
    },
    "tags": []
   },
   "outputs": [
    {
     "data": {
      "text/html": [
       "<div>\n",
       "<style scoped>\n",
       "    .dataframe tbody tr th:only-of-type {\n",
       "        vertical-align: middle;\n",
       "    }\n",
       "\n",
       "    .dataframe tbody tr th {\n",
       "        vertical-align: top;\n",
       "    }\n",
       "\n",
       "    .dataframe thead th {\n",
       "        text-align: right;\n",
       "    }\n",
       "</style>\n",
       "<table border=\"1\" class=\"dataframe\">\n",
       "  <thead>\n",
       "    <tr style=\"text-align: right;\">\n",
       "      <th></th>\n",
       "      <th>class</th>\n",
       "      <th>cap-shape</th>\n",
       "      <th>cap-surface</th>\n",
       "      <th>cap-color</th>\n",
       "      <th>bruises</th>\n",
       "      <th>odor</th>\n",
       "      <th>gill-attachment</th>\n",
       "      <th>gill-spacing</th>\n",
       "      <th>gill-size</th>\n",
       "      <th>gill-color</th>\n",
       "      <th>...</th>\n",
       "      <th>stalk-surface-below-ring</th>\n",
       "      <th>stalk-color-above-ring</th>\n",
       "      <th>stalk-color-below-ring</th>\n",
       "      <th>veil-type</th>\n",
       "      <th>veil-color</th>\n",
       "      <th>ring-number</th>\n",
       "      <th>ring-type</th>\n",
       "      <th>spore-print-color</th>\n",
       "      <th>population</th>\n",
       "      <th>habitat</th>\n",
       "    </tr>\n",
       "  </thead>\n",
       "  <tbody>\n",
       "    <tr>\n",
       "      <th>count</th>\n",
       "      <td>8124</td>\n",
       "      <td>8124</td>\n",
       "      <td>8124</td>\n",
       "      <td>8124</td>\n",
       "      <td>8124</td>\n",
       "      <td>8124</td>\n",
       "      <td>8124</td>\n",
       "      <td>8124</td>\n",
       "      <td>8124</td>\n",
       "      <td>8124</td>\n",
       "      <td>...</td>\n",
       "      <td>8124</td>\n",
       "      <td>8124</td>\n",
       "      <td>8124</td>\n",
       "      <td>8124</td>\n",
       "      <td>8124</td>\n",
       "      <td>8124</td>\n",
       "      <td>8124</td>\n",
       "      <td>8124</td>\n",
       "      <td>8124</td>\n",
       "      <td>8124</td>\n",
       "    </tr>\n",
       "    <tr>\n",
       "      <th>unique</th>\n",
       "      <td>2</td>\n",
       "      <td>6</td>\n",
       "      <td>4</td>\n",
       "      <td>10</td>\n",
       "      <td>2</td>\n",
       "      <td>9</td>\n",
       "      <td>2</td>\n",
       "      <td>2</td>\n",
       "      <td>2</td>\n",
       "      <td>12</td>\n",
       "      <td>...</td>\n",
       "      <td>4</td>\n",
       "      <td>9</td>\n",
       "      <td>9</td>\n",
       "      <td>1</td>\n",
       "      <td>4</td>\n",
       "      <td>3</td>\n",
       "      <td>5</td>\n",
       "      <td>9</td>\n",
       "      <td>6</td>\n",
       "      <td>7</td>\n",
       "    </tr>\n",
       "    <tr>\n",
       "      <th>top</th>\n",
       "      <td>e</td>\n",
       "      <td>x</td>\n",
       "      <td>y</td>\n",
       "      <td>n</td>\n",
       "      <td>f</td>\n",
       "      <td>n</td>\n",
       "      <td>f</td>\n",
       "      <td>c</td>\n",
       "      <td>b</td>\n",
       "      <td>b</td>\n",
       "      <td>...</td>\n",
       "      <td>s</td>\n",
       "      <td>w</td>\n",
       "      <td>w</td>\n",
       "      <td>p</td>\n",
       "      <td>w</td>\n",
       "      <td>o</td>\n",
       "      <td>p</td>\n",
       "      <td>w</td>\n",
       "      <td>v</td>\n",
       "      <td>d</td>\n",
       "    </tr>\n",
       "    <tr>\n",
       "      <th>freq</th>\n",
       "      <td>4208</td>\n",
       "      <td>3656</td>\n",
       "      <td>3244</td>\n",
       "      <td>2284</td>\n",
       "      <td>4748</td>\n",
       "      <td>3528</td>\n",
       "      <td>7914</td>\n",
       "      <td>6812</td>\n",
       "      <td>5612</td>\n",
       "      <td>1728</td>\n",
       "      <td>...</td>\n",
       "      <td>4936</td>\n",
       "      <td>4464</td>\n",
       "      <td>4384</td>\n",
       "      <td>8124</td>\n",
       "      <td>7924</td>\n",
       "      <td>7488</td>\n",
       "      <td>3968</td>\n",
       "      <td>2388</td>\n",
       "      <td>4040</td>\n",
       "      <td>3148</td>\n",
       "    </tr>\n",
       "  </tbody>\n",
       "</table>\n",
       "<p>4 rows × 23 columns</p>\n",
       "</div>"
      ],
      "text/plain": [
       "       class cap-shape cap-surface cap-color bruises  odor gill-attachment  \\\n",
       "count   8124      8124        8124      8124    8124  8124            8124   \n",
       "unique     2         6           4        10       2     9               2   \n",
       "top        e         x           y         n       f     n               f   \n",
       "freq    4208      3656        3244      2284    4748  3528            7914   \n",
       "\n",
       "       gill-spacing gill-size gill-color  ... stalk-surface-below-ring  \\\n",
       "count          8124      8124       8124  ...                     8124   \n",
       "unique            2         2         12  ...                        4   \n",
       "top               c         b          b  ...                        s   \n",
       "freq           6812      5612       1728  ...                     4936   \n",
       "\n",
       "       stalk-color-above-ring stalk-color-below-ring veil-type veil-color  \\\n",
       "count                    8124                   8124      8124       8124   \n",
       "unique                      9                      9         1          4   \n",
       "top                         w                      w         p          w   \n",
       "freq                     4464                   4384      8124       7924   \n",
       "\n",
       "       ring-number ring-type spore-print-color population habitat  \n",
       "count         8124      8124              8124       8124    8124  \n",
       "unique           3         5                 9          6       7  \n",
       "top              o         p                 w          v       d  \n",
       "freq          7488      3968              2388       4040    3148  \n",
       "\n",
       "[4 rows x 23 columns]"
      ]
     },
     "execution_count": 5,
     "metadata": {},
     "output_type": "execute_result"
    }
   ],
   "source": [
    "df.describe()"
   ]
  },
  {
   "cell_type": "code",
   "execution_count": 6,
   "id": "f3bf3c60",
   "metadata": {
    "execution": {
     "iopub.execute_input": "2021-08-28T05:49:40.177362Z",
     "iopub.status.busy": "2021-08-28T05:49:40.176378Z",
     "iopub.status.idle": "2021-08-28T05:49:40.215542Z",
     "shell.execute_reply": "2021-08-28T05:49:40.216090Z",
     "shell.execute_reply.started": "2021-08-28T05:35:31.525930Z"
    },
    "papermill": {
     "duration": 0.08221,
     "end_time": "2021-08-28T05:49:40.216270",
     "exception": false,
     "start_time": "2021-08-28T05:49:40.134060",
     "status": "completed"
    },
    "tags": []
   },
   "outputs": [
    {
     "name": "stdout",
     "output_type": "stream",
     "text": [
      "<class 'pandas.core.frame.DataFrame'>\n",
      "RangeIndex: 8124 entries, 0 to 8123\n",
      "Data columns (total 23 columns):\n",
      " #   Column                    Non-Null Count  Dtype \n",
      "---  ------                    --------------  ----- \n",
      " 0   class                     8124 non-null   object\n",
      " 1   cap-shape                 8124 non-null   object\n",
      " 2   cap-surface               8124 non-null   object\n",
      " 3   cap-color                 8124 non-null   object\n",
      " 4   bruises                   8124 non-null   object\n",
      " 5   odor                      8124 non-null   object\n",
      " 6   gill-attachment           8124 non-null   object\n",
      " 7   gill-spacing              8124 non-null   object\n",
      " 8   gill-size                 8124 non-null   object\n",
      " 9   gill-color                8124 non-null   object\n",
      " 10  stalk-shape               8124 non-null   object\n",
      " 11  stalk-root                8124 non-null   object\n",
      " 12  stalk-surface-above-ring  8124 non-null   object\n",
      " 13  stalk-surface-below-ring  8124 non-null   object\n",
      " 14  stalk-color-above-ring    8124 non-null   object\n",
      " 15  stalk-color-below-ring    8124 non-null   object\n",
      " 16  veil-type                 8124 non-null   object\n",
      " 17  veil-color                8124 non-null   object\n",
      " 18  ring-number               8124 non-null   object\n",
      " 19  ring-type                 8124 non-null   object\n",
      " 20  spore-print-color         8124 non-null   object\n",
      " 21  population                8124 non-null   object\n",
      " 22  habitat                   8124 non-null   object\n",
      "dtypes: object(23)\n",
      "memory usage: 1.4+ MB\n"
     ]
    }
   ],
   "source": [
    "df.info() # as we can see there are no NULL values at all"
   ]
  },
  {
   "cell_type": "code",
   "execution_count": 7,
   "id": "884f6339",
   "metadata": {
    "execution": {
     "iopub.execute_input": "2021-08-28T05:49:40.286125Z",
     "iopub.status.busy": "2021-08-28T05:49:40.285322Z",
     "iopub.status.idle": "2021-08-28T05:49:40.311842Z",
     "shell.execute_reply": "2021-08-28T05:49:40.312343Z",
     "shell.execute_reply.started": "2021-08-28T05:35:31.557994Z"
    },
    "papermill": {
     "duration": 0.061585,
     "end_time": "2021-08-28T05:49:40.312538",
     "exception": false,
     "start_time": "2021-08-28T05:49:40.250953",
     "status": "completed"
    },
    "tags": []
   },
   "outputs": [
    {
     "data": {
      "text/plain": [
       "class                       0\n",
       "cap-shape                   0\n",
       "cap-surface                 0\n",
       "cap-color                   0\n",
       "bruises                     0\n",
       "odor                        0\n",
       "gill-attachment             0\n",
       "gill-spacing                0\n",
       "gill-size                   0\n",
       "gill-color                  0\n",
       "stalk-shape                 0\n",
       "stalk-root                  0\n",
       "stalk-surface-above-ring    0\n",
       "stalk-surface-below-ring    0\n",
       "stalk-color-above-ring      0\n",
       "stalk-color-below-ring      0\n",
       "veil-type                   0\n",
       "veil-color                  0\n",
       "ring-number                 0\n",
       "ring-type                   0\n",
       "spore-print-color           0\n",
       "population                  0\n",
       "habitat                     0\n",
       "dtype: int64"
      ]
     },
     "execution_count": 7,
     "metadata": {},
     "output_type": "execute_result"
    }
   ],
   "source": [
    "# Checking if any null values are present;\n",
    "df.isna().sum()"
   ]
  },
  {
   "cell_type": "code",
   "execution_count": 8,
   "id": "32b22411",
   "metadata": {
    "execution": {
     "iopub.execute_input": "2021-08-28T05:49:40.380057Z",
     "iopub.status.busy": "2021-08-28T05:49:40.379429Z",
     "iopub.status.idle": "2021-08-28T05:49:40.406567Z",
     "shell.execute_reply": "2021-08-28T05:49:40.406037Z",
     "shell.execute_reply.started": "2021-08-28T05:35:31.585678Z"
    },
    "papermill": {
     "duration": 0.059725,
     "end_time": "2021-08-28T05:49:40.406710",
     "exception": false,
     "start_time": "2021-08-28T05:49:40.346985",
     "status": "completed"
    },
    "tags": []
   },
   "outputs": [
    {
     "data": {
      "text/plain": [
       "class                       0\n",
       "cap-shape                   0\n",
       "cap-surface                 0\n",
       "cap-color                   0\n",
       "bruises                     0\n",
       "odor                        0\n",
       "gill-attachment             0\n",
       "gill-spacing                0\n",
       "gill-size                   0\n",
       "gill-color                  0\n",
       "stalk-shape                 0\n",
       "stalk-root                  0\n",
       "stalk-surface-above-ring    0\n",
       "stalk-surface-below-ring    0\n",
       "stalk-color-above-ring      0\n",
       "stalk-color-below-ring      0\n",
       "veil-type                   0\n",
       "veil-color                  0\n",
       "ring-number                 0\n",
       "ring-type                   0\n",
       "spore-print-color           0\n",
       "population                  0\n",
       "habitat                     0\n",
       "dtype: int64"
      ]
     },
     "execution_count": 8,
     "metadata": {},
     "output_type": "execute_result"
    }
   ],
   "source": [
    "df.isnull().sum()"
   ]
  },
  {
   "cell_type": "code",
   "execution_count": 9,
   "id": "e8071cc3",
   "metadata": {
    "execution": {
     "iopub.execute_input": "2021-08-28T05:49:40.474270Z",
     "iopub.status.busy": "2021-08-28T05:49:40.473617Z",
     "iopub.status.idle": "2021-08-28T05:49:40.538434Z",
     "shell.execute_reply": "2021-08-28T05:49:40.537866Z",
     "shell.execute_reply.started": "2021-08-28T05:35:31.621161Z"
    },
    "papermill": {
     "duration": 0.101526,
     "end_time": "2021-08-28T05:49:40.538573",
     "exception": false,
     "start_time": "2021-08-28T05:49:40.437047",
     "status": "completed"
    },
    "tags": []
   },
   "outputs": [
    {
     "data": {
      "text/plain": [
       "Index(['class', 'cap-shape', 'cap-surface', 'cap-color', 'bruises', 'odor',\n",
       "       'gill-attachment', 'gill-spacing', 'gill-size', 'gill-color',\n",
       "       'stalk-shape', 'stalk-root', 'stalk-surface-above-ring',\n",
       "       'stalk-surface-below-ring', 'stalk-color-above-ring',\n",
       "       'stalk-color-below-ring', 'veil-type', 'veil-color', 'ring-number',\n",
       "       'ring-type', 'spore-print-color', 'population', 'habitat'],\n",
       "      dtype='object')"
      ]
     },
     "execution_count": 9,
     "metadata": {},
     "output_type": "execute_result"
    }
   ],
   "source": [
    "# checking the value counts of each column\n",
    "val_dict = {}\n",
    "for i in df.columns:\n",
    "    val_dict[i] = df[[i]].value_counts()\n",
    "    \n",
    "df.columns"
   ]
  },
  {
   "cell_type": "code",
   "execution_count": 10,
   "id": "a2fe8662",
   "metadata": {
    "execution": {
     "iopub.execute_input": "2021-08-28T05:49:40.620746Z",
     "iopub.status.busy": "2021-08-28T05:49:40.608991Z",
     "iopub.status.idle": "2021-08-28T05:49:40.631239Z",
     "shell.execute_reply": "2021-08-28T05:49:40.630670Z",
     "shell.execute_reply.started": "2021-08-28T05:35:31.690308Z"
    },
    "papermill": {
     "duration": 0.061789,
     "end_time": "2021-08-28T05:49:40.631396",
     "exception": false,
     "start_time": "2021-08-28T05:49:40.569607",
     "status": "completed"
    },
    "tags": []
   },
   "outputs": [
    {
     "name": "stdout",
     "output_type": "stream",
     "text": [
      "class\n",
      "e        4208\n",
      "p        3916\n",
      "dtype: int64\n",
      "---------------------\n",
      "cap-shape\n",
      "x            3656\n",
      "f            3152\n",
      "k             828\n",
      "b             452\n",
      "s              32\n",
      "c               4\n",
      "dtype: int64\n",
      "---------------------\n",
      "cap-surface\n",
      "y              3244\n",
      "s              2556\n",
      "f              2320\n",
      "g                 4\n",
      "dtype: int64\n",
      "---------------------\n",
      "cap-color\n",
      "n            2284\n",
      "g            1840\n",
      "e            1500\n",
      "y            1072\n",
      "w            1040\n",
      "b             168\n",
      "p             144\n",
      "c              44\n",
      "r              16\n",
      "u              16\n",
      "dtype: int64\n",
      "---------------------\n",
      "bruises\n",
      "f          4748\n",
      "t          3376\n",
      "dtype: int64\n",
      "---------------------\n",
      "odor\n",
      "n       3528\n",
      "f       2160\n",
      "s        576\n",
      "y        576\n",
      "a        400\n",
      "l        400\n",
      "p        256\n",
      "c        192\n",
      "m         36\n",
      "dtype: int64\n",
      "---------------------\n",
      "gill-attachment\n",
      "f                  7914\n",
      "a                   210\n",
      "dtype: int64\n",
      "---------------------\n",
      "gill-spacing\n",
      "c               6812\n",
      "w               1312\n",
      "dtype: int64\n",
      "---------------------\n",
      "gill-size\n",
      "b            5612\n",
      "n            2512\n",
      "dtype: int64\n",
      "---------------------\n",
      "gill-color\n",
      "b             1728\n",
      "p             1492\n",
      "w             1202\n",
      "n             1048\n",
      "g              752\n",
      "h              732\n",
      "u              492\n",
      "k              408\n",
      "e               96\n",
      "y               86\n",
      "o               64\n",
      "r               24\n",
      "dtype: int64\n",
      "---------------------\n",
      "stalk-shape\n",
      "t              4608\n",
      "e              3516\n",
      "dtype: int64\n",
      "---------------------\n",
      "stalk-root\n",
      "b             3776\n",
      "?             2480\n",
      "e             1120\n",
      "c              556\n",
      "r              192\n",
      "dtype: int64\n",
      "---------------------\n",
      "stalk-surface-above-ring\n",
      "s                           5176\n",
      "k                           2372\n",
      "f                            552\n",
      "y                             24\n",
      "dtype: int64\n",
      "---------------------\n",
      "stalk-surface-below-ring\n",
      "s                           4936\n",
      "k                           2304\n",
      "f                            600\n",
      "y                            284\n",
      "dtype: int64\n",
      "---------------------\n",
      "stalk-color-above-ring\n",
      "w                         4464\n",
      "p                         1872\n",
      "g                          576\n",
      "n                          448\n",
      "b                          432\n",
      "o                          192\n",
      "e                           96\n",
      "c                           36\n",
      "y                            8\n",
      "dtype: int64\n",
      "---------------------\n",
      "stalk-color-below-ring\n",
      "w                         4384\n",
      "p                         1872\n",
      "g                          576\n",
      "n                          512\n",
      "b                          432\n",
      "o                          192\n",
      "e                           96\n",
      "c                           36\n",
      "y                           24\n",
      "dtype: int64\n",
      "---------------------\n",
      "veil-type\n",
      "p            8124\n",
      "dtype: int64\n",
      "---------------------\n",
      "veil-color\n",
      "w             7924\n",
      "n               96\n",
      "o               96\n",
      "y                8\n",
      "dtype: int64\n",
      "---------------------\n",
      "ring-number\n",
      "o              7488\n",
      "t               600\n",
      "n                36\n",
      "dtype: int64\n",
      "---------------------\n",
      "ring-type\n",
      "p            3968\n",
      "e            2776\n",
      "l            1296\n",
      "f              48\n",
      "n              36\n",
      "dtype: int64\n",
      "---------------------\n",
      "spore-print-color\n",
      "w                    2388\n",
      "n                    1968\n",
      "k                    1872\n",
      "h                    1632\n",
      "r                      72\n",
      "b                      48\n",
      "o                      48\n",
      "u                      48\n",
      "y                      48\n",
      "dtype: int64\n",
      "---------------------\n",
      "population\n",
      "v             4040\n",
      "y             1712\n",
      "s             1248\n",
      "n              400\n",
      "a              384\n",
      "c              340\n",
      "dtype: int64\n",
      "---------------------\n",
      "habitat\n",
      "d          3148\n",
      "g          2148\n",
      "p          1144\n",
      "l           832\n",
      "u           368\n",
      "m           292\n",
      "w           192\n",
      "dtype: int64\n",
      "---------------------\n"
     ]
    }
   ],
   "source": [
    "for i in val_dict.keys():\n",
    "    print(val_dict[i])\n",
    "    print(\"---------------------\")"
   ]
  },
  {
   "cell_type": "code",
   "execution_count": 11,
   "id": "0700371f",
   "metadata": {
    "execution": {
     "iopub.execute_input": "2021-08-28T05:49:40.701260Z",
     "iopub.status.busy": "2021-08-28T05:49:40.699594Z",
     "iopub.status.idle": "2021-08-28T05:49:40.705340Z",
     "shell.execute_reply": "2021-08-28T05:49:40.704652Z",
     "shell.execute_reply.started": "2021-08-28T05:35:31.717483Z"
    },
    "papermill": {
     "duration": 0.042629,
     "end_time": "2021-08-28T05:49:40.705484",
     "exception": false,
     "start_time": "2021-08-28T05:49:40.662855",
     "status": "completed"
    },
    "tags": []
   },
   "outputs": [],
   "source": [
    "# Dropping veil-type column\n",
    "df.drop(['veil-type'], axis=1, inplace=True)"
   ]
  },
  {
   "cell_type": "code",
   "execution_count": 12,
   "id": "12651325",
   "metadata": {
    "execution": {
     "iopub.execute_input": "2021-08-28T05:49:40.791722Z",
     "iopub.status.busy": "2021-08-28T05:49:40.790787Z",
     "iopub.status.idle": "2021-08-28T05:49:40.795784Z",
     "shell.execute_reply": "2021-08-28T05:49:40.795136Z",
     "shell.execute_reply.started": "2021-08-28T05:35:31.726441Z"
    },
    "papermill": {
     "duration": 0.059263,
     "end_time": "2021-08-28T05:49:40.795924",
     "exception": false,
     "start_time": "2021-08-28T05:49:40.736661",
     "status": "completed"
    },
    "tags": []
   },
   "outputs": [
    {
     "data": {
      "text/html": [
       "<div>\n",
       "<style scoped>\n",
       "    .dataframe tbody tr th:only-of-type {\n",
       "        vertical-align: middle;\n",
       "    }\n",
       "\n",
       "    .dataframe tbody tr th {\n",
       "        vertical-align: top;\n",
       "    }\n",
       "\n",
       "    .dataframe thead th {\n",
       "        text-align: right;\n",
       "    }\n",
       "</style>\n",
       "<table border=\"1\" class=\"dataframe\">\n",
       "  <thead>\n",
       "    <tr style=\"text-align: right;\">\n",
       "      <th></th>\n",
       "      <th>class</th>\n",
       "      <th>cap-shape</th>\n",
       "      <th>cap-surface</th>\n",
       "      <th>cap-color</th>\n",
       "      <th>bruises</th>\n",
       "      <th>odor</th>\n",
       "      <th>gill-attachment</th>\n",
       "      <th>gill-spacing</th>\n",
       "      <th>gill-size</th>\n",
       "      <th>gill-color</th>\n",
       "      <th>...</th>\n",
       "      <th>stalk-surface-above-ring</th>\n",
       "      <th>stalk-surface-below-ring</th>\n",
       "      <th>stalk-color-above-ring</th>\n",
       "      <th>stalk-color-below-ring</th>\n",
       "      <th>veil-color</th>\n",
       "      <th>ring-number</th>\n",
       "      <th>ring-type</th>\n",
       "      <th>spore-print-color</th>\n",
       "      <th>population</th>\n",
       "      <th>habitat</th>\n",
       "    </tr>\n",
       "  </thead>\n",
       "  <tbody>\n",
       "    <tr>\n",
       "      <th>0</th>\n",
       "      <td>p</td>\n",
       "      <td>x</td>\n",
       "      <td>s</td>\n",
       "      <td>n</td>\n",
       "      <td>t</td>\n",
       "      <td>p</td>\n",
       "      <td>f</td>\n",
       "      <td>c</td>\n",
       "      <td>n</td>\n",
       "      <td>k</td>\n",
       "      <td>...</td>\n",
       "      <td>s</td>\n",
       "      <td>s</td>\n",
       "      <td>w</td>\n",
       "      <td>w</td>\n",
       "      <td>w</td>\n",
       "      <td>o</td>\n",
       "      <td>p</td>\n",
       "      <td>k</td>\n",
       "      <td>s</td>\n",
       "      <td>u</td>\n",
       "    </tr>\n",
       "    <tr>\n",
       "      <th>1</th>\n",
       "      <td>e</td>\n",
       "      <td>x</td>\n",
       "      <td>s</td>\n",
       "      <td>y</td>\n",
       "      <td>t</td>\n",
       "      <td>a</td>\n",
       "      <td>f</td>\n",
       "      <td>c</td>\n",
       "      <td>b</td>\n",
       "      <td>k</td>\n",
       "      <td>...</td>\n",
       "      <td>s</td>\n",
       "      <td>s</td>\n",
       "      <td>w</td>\n",
       "      <td>w</td>\n",
       "      <td>w</td>\n",
       "      <td>o</td>\n",
       "      <td>p</td>\n",
       "      <td>n</td>\n",
       "      <td>n</td>\n",
       "      <td>g</td>\n",
       "    </tr>\n",
       "    <tr>\n",
       "      <th>2</th>\n",
       "      <td>e</td>\n",
       "      <td>b</td>\n",
       "      <td>s</td>\n",
       "      <td>w</td>\n",
       "      <td>t</td>\n",
       "      <td>l</td>\n",
       "      <td>f</td>\n",
       "      <td>c</td>\n",
       "      <td>b</td>\n",
       "      <td>n</td>\n",
       "      <td>...</td>\n",
       "      <td>s</td>\n",
       "      <td>s</td>\n",
       "      <td>w</td>\n",
       "      <td>w</td>\n",
       "      <td>w</td>\n",
       "      <td>o</td>\n",
       "      <td>p</td>\n",
       "      <td>n</td>\n",
       "      <td>n</td>\n",
       "      <td>m</td>\n",
       "    </tr>\n",
       "  </tbody>\n",
       "</table>\n",
       "<p>3 rows × 22 columns</p>\n",
       "</div>"
      ],
      "text/plain": [
       "  class cap-shape cap-surface cap-color bruises odor gill-attachment  \\\n",
       "0     p         x           s         n       t    p               f   \n",
       "1     e         x           s         y       t    a               f   \n",
       "2     e         b           s         w       t    l               f   \n",
       "\n",
       "  gill-spacing gill-size gill-color  ... stalk-surface-above-ring  \\\n",
       "0            c         n          k  ...                        s   \n",
       "1            c         b          k  ...                        s   \n",
       "2            c         b          n  ...                        s   \n",
       "\n",
       "  stalk-surface-below-ring stalk-color-above-ring stalk-color-below-ring  \\\n",
       "0                        s                      w                      w   \n",
       "1                        s                      w                      w   \n",
       "2                        s                      w                      w   \n",
       "\n",
       "  veil-color ring-number ring-type spore-print-color population habitat  \n",
       "0          w           o         p                 k          s       u  \n",
       "1          w           o         p                 n          n       g  \n",
       "2          w           o         p                 n          n       m  \n",
       "\n",
       "[3 rows x 22 columns]"
      ]
     },
     "execution_count": 12,
     "metadata": {},
     "output_type": "execute_result"
    }
   ],
   "source": [
    "df.head(3)"
   ]
  },
  {
   "cell_type": "code",
   "execution_count": 13,
   "id": "68e2819f",
   "metadata": {
    "execution": {
     "iopub.execute_input": "2021-08-28T05:49:40.871046Z",
     "iopub.status.busy": "2021-08-28T05:49:40.870240Z",
     "iopub.status.idle": "2021-08-28T05:49:40.873499Z",
     "shell.execute_reply": "2021-08-28T05:49:40.872966Z",
     "shell.execute_reply.started": "2021-08-28T05:35:31.757786Z"
    },
    "papermill": {
     "duration": 0.04554,
     "end_time": "2021-08-28T05:49:40.873646",
     "exception": false,
     "start_time": "2021-08-28T05:49:40.828106",
     "status": "completed"
    },
    "tags": []
   },
   "outputs": [],
   "source": [
    "# Finding Features using Cramers -- for correlation value b/t categorical attributes\n",
    "# @Yury; Source: https://stackoverflow.com/questions/20892799/using-pandas-calculate-cram%C3%A9rs-coefficient-matrix\n",
    "# @Bergsma, @Wicher; Source: Journal of the Korean Statistical Society 42 (2013): 323-328\n",
    "from scipy import stats\n",
    "\n",
    "def cramers(x, y):\n",
    "    \"\"\"\n",
    "    This function calculated the correlation between 2 categorical attributes.\n",
    "    \"\"\"\n",
    "    if len(x.value_counts()) == 1 or len(y.value_counts()) == 1: \n",
    "        pass\n",
    "    else:\n",
    "        confusion_matrix = pd.crosstab(x, y)\n",
    "        chi_square = stats.chi2_contingency(confusion_matrix)[0]\n",
    "        _sum = sum(confusion_matrix.sum())\n",
    "        phi_square = chi_square/_sum\n",
    "        ver, hor = confusion_matrix.shape\n",
    "        phi_square_corr = max(0, phi_square - ((ver-1)*(hor-1))/(_sum-1))\n",
    "        ver_corr = ver - ((ver-1)**2)/(_sum-1)\n",
    "        hor_corr = hor - ((hor-1)**2)/(_sum-1)\n",
    "        result = np.sqrt(phi_square_corr/min((hor_corr-1),(ver_corr-1)))\n",
    "        return round(result,2)"
   ]
  },
  {
   "cell_type": "code",
   "execution_count": 14,
   "id": "73e466c4",
   "metadata": {
    "execution": {
     "iopub.execute_input": "2021-08-28T05:49:40.952739Z",
     "iopub.status.busy": "2021-08-28T05:49:40.951936Z",
     "iopub.status.idle": "2021-08-28T05:49:41.396064Z",
     "shell.execute_reply": "2021-08-28T05:49:41.395377Z",
     "shell.execute_reply.started": "2021-08-28T05:35:31.769944Z"
    },
    "papermill": {
     "duration": 0.490582,
     "end_time": "2021-08-28T05:49:41.396206",
     "exception": false,
     "start_time": "2021-08-28T05:49:40.905624",
     "status": "completed"
    },
    "tags": []
   },
   "outputs": [
    {
     "data": {
      "text/plain": [
       "['odor',\n",
       " 'gill-size',\n",
       " 'gill-color',\n",
       " 'stalk-surface-above-ring',\n",
       " 'stalk-surface-below-ring',\n",
       " 'stalk-color-above-ring',\n",
       " 'stalk-color-below-ring',\n",
       " 'ring-type',\n",
       " 'spore-print-color']"
      ]
     },
     "execution_count": 14,
     "metadata": {},
     "output_type": "execute_result"
    }
   ],
   "source": [
    "corr_list = []\n",
    "for i in df.columns[1:]:\n",
    "    x = cramers(df[df.columns[0]], df[i])\n",
    "    if x is not None and x > 0.5:\n",
    "        corr_list.append(i)\n",
    "\n",
    "corr_list"
   ]
  },
  {
   "cell_type": "code",
   "execution_count": 15,
   "id": "03a639d4",
   "metadata": {
    "execution": {
     "iopub.execute_input": "2021-08-28T05:49:41.469070Z",
     "iopub.status.busy": "2021-08-28T05:49:41.468375Z",
     "iopub.status.idle": "2021-08-28T05:49:41.474717Z",
     "shell.execute_reply": "2021-08-28T05:49:41.473686Z",
     "shell.execute_reply.started": "2021-08-28T05:35:32.205362Z"
    },
    "papermill": {
     "duration": 0.046488,
     "end_time": "2021-08-28T05:49:41.474886",
     "exception": false,
     "start_time": "2021-08-28T05:49:41.428398",
     "status": "completed"
    },
    "tags": []
   },
   "outputs": [],
   "source": [
    "X = df[['odor',\n",
    " 'gill-size',\n",
    " 'gill-color',\n",
    " 'stalk-surface-above-ring',\n",
    " 'stalk-surface-below-ring',\n",
    " 'stalk-color-above-ring',\n",
    " 'stalk-color-below-ring',\n",
    " 'ring-type',\n",
    " 'spore-print-color']]\n",
    "\n",
    "y = df[['class']]"
   ]
  },
  {
   "cell_type": "code",
   "execution_count": 16,
   "id": "652575de",
   "metadata": {
    "execution": {
     "iopub.execute_input": "2021-08-28T05:49:41.547782Z",
     "iopub.status.busy": "2021-08-28T05:49:41.547051Z",
     "iopub.status.idle": "2021-08-28T05:49:41.700294Z",
     "shell.execute_reply": "2021-08-28T05:49:41.699599Z",
     "shell.execute_reply.started": "2021-08-28T05:35:32.214894Z"
    },
    "papermill": {
     "duration": 0.193267,
     "end_time": "2021-08-28T05:49:41.700473",
     "exception": false,
     "start_time": "2021-08-28T05:49:41.507206",
     "status": "completed"
    },
    "tags": []
   },
   "outputs": [
    {
     "name": "stdout",
     "output_type": "stream",
     "text": [
      "odor\n",
      "n       3528\n",
      "f       2160\n",
      "s        576\n",
      "y        576\n",
      "a        400\n",
      "l        400\n",
      "p        256\n",
      "c        192\n",
      "m         36\n",
      "dtype: int64\n",
      "---------------------\n",
      "gill-size\n",
      "b            5612\n",
      "n            2512\n",
      "dtype: int64\n",
      "---------------------\n",
      "gill-color\n",
      "b             1728\n",
      "p             1492\n",
      "w             1202\n",
      "n             1048\n",
      "g              752\n",
      "h              732\n",
      "u              492\n",
      "k              408\n",
      "e               96\n",
      "y               86\n",
      "o               64\n",
      "r               24\n",
      "dtype: int64\n",
      "---------------------\n",
      "stalk-surface-above-ring\n",
      "s                           5176\n",
      "k                           2372\n",
      "f                            552\n",
      "y                             24\n",
      "dtype: int64\n",
      "---------------------\n",
      "stalk-surface-below-ring\n",
      "s                           4936\n",
      "k                           2304\n",
      "f                            600\n",
      "y                            284\n",
      "dtype: int64\n",
      "---------------------\n",
      "stalk-color-above-ring\n",
      "w                         4464\n",
      "p                         1872\n",
      "g                          576\n",
      "n                          448\n",
      "b                          432\n",
      "o                          192\n",
      "e                           96\n",
      "c                           36\n",
      "y                            8\n",
      "dtype: int64\n",
      "---------------------\n",
      "stalk-color-below-ring\n",
      "w                         4384\n",
      "p                         1872\n",
      "g                          576\n",
      "n                          512\n",
      "b                          432\n",
      "o                          192\n",
      "e                           96\n",
      "c                           36\n",
      "y                           24\n",
      "dtype: int64\n",
      "---------------------\n",
      "ring-type\n",
      "p            3968\n",
      "e            2776\n",
      "l            1296\n",
      "f              48\n",
      "n              36\n",
      "dtype: int64\n",
      "---------------------\n",
      "spore-print-color\n",
      "w                    2388\n",
      "n                    1968\n",
      "k                    1872\n",
      "h                    1632\n",
      "r                      72\n",
      "b                      48\n",
      "o                      48\n",
      "u                      48\n",
      "y                      48\n",
      "dtype: int64\n",
      "---------------------\n"
     ]
    }
   ],
   "source": [
    "# Label Encoding on the columns --> # X -- ['odor', 'gill-color', 'spore-print-color']\n",
    "\n",
    "from sklearn.preprocessing import LabelEncoder\n",
    "\n",
    "for i in X:\n",
    "    print(val_dict[i])\n",
    "    print(\"---------------------\")"
   ]
  },
  {
   "cell_type": "code",
   "execution_count": 17,
   "id": "dedc5a32",
   "metadata": {
    "execution": {
     "iopub.execute_input": "2021-08-28T05:49:41.798378Z",
     "iopub.status.busy": "2021-08-28T05:49:41.797687Z",
     "iopub.status.idle": "2021-08-28T05:49:41.803639Z",
     "shell.execute_reply": "2021-08-28T05:49:41.803077Z",
     "shell.execute_reply.started": "2021-08-28T05:35:32.273060Z"
    },
    "papermill": {
     "duration": 0.070931,
     "end_time": "2021-08-28T05:49:41.803811",
     "exception": false,
     "start_time": "2021-08-28T05:49:41.732880",
     "status": "completed"
    },
    "tags": []
   },
   "outputs": [
    {
     "name": "stdout",
     "output_type": "stream",
     "text": [
      "[6 0 3 ... 5 8 5]\n",
      "[1 0 0 ... 0 1 0]\n",
      "[ 4  4  5 ...  5  0 11]\n",
      "[2 2 2 ... 2 2 2]\n",
      "[2 2 2 ... 2 1 2]\n",
      "[7 7 7 ... 5 7 5]\n",
      "[7 7 7 ... 5 7 5]\n",
      "[4 4 4 ... 4 0 4]\n",
      "[2 3 3 ... 0 7 4]\n"
     ]
    }
   ],
   "source": [
    "label_encoder = LabelEncoder()\n",
    "for i in X:\n",
    "    xx = label_encoder.fit_transform(X[i])\n",
    "    print(xx)"
   ]
  },
  {
   "cell_type": "code",
   "execution_count": 18,
   "id": "06ad8b20",
   "metadata": {
    "execution": {
     "iopub.execute_input": "2021-08-28T05:49:41.877181Z",
     "iopub.status.busy": "2021-08-28T05:49:41.876520Z",
     "iopub.status.idle": "2021-08-28T05:49:41.920761Z",
     "shell.execute_reply": "2021-08-28T05:49:41.921265Z",
     "shell.execute_reply.started": "2021-08-28T05:35:32.305216Z"
    },
    "papermill": {
     "duration": 0.084068,
     "end_time": "2021-08-28T05:49:41.921462",
     "exception": false,
     "start_time": "2021-08-28T05:49:41.837394",
     "status": "completed"
    },
    "tags": []
   },
   "outputs": [
    {
     "data": {
      "text/html": [
       "<div>\n",
       "<style scoped>\n",
       "    .dataframe tbody tr th:only-of-type {\n",
       "        vertical-align: middle;\n",
       "    }\n",
       "\n",
       "    .dataframe tbody tr th {\n",
       "        vertical-align: top;\n",
       "    }\n",
       "\n",
       "    .dataframe thead th {\n",
       "        text-align: right;\n",
       "    }\n",
       "</style>\n",
       "<table border=\"1\" class=\"dataframe\">\n",
       "  <thead>\n",
       "    <tr style=\"text-align: right;\">\n",
       "      <th></th>\n",
       "      <th>odor</th>\n",
       "      <th>gill-size</th>\n",
       "      <th>gill-color</th>\n",
       "      <th>stalk-surface-above-ring</th>\n",
       "      <th>stalk-surface-below-ring</th>\n",
       "      <th>stalk-color-above-ring</th>\n",
       "      <th>stalk-color-below-ring</th>\n",
       "      <th>ring-type</th>\n",
       "      <th>spore-print-color</th>\n",
       "    </tr>\n",
       "  </thead>\n",
       "  <tbody>\n",
       "    <tr>\n",
       "      <th>0</th>\n",
       "      <td>6</td>\n",
       "      <td>1</td>\n",
       "      <td>4</td>\n",
       "      <td>2</td>\n",
       "      <td>2</td>\n",
       "      <td>7</td>\n",
       "      <td>7</td>\n",
       "      <td>4</td>\n",
       "      <td>2</td>\n",
       "    </tr>\n",
       "    <tr>\n",
       "      <th>1</th>\n",
       "      <td>0</td>\n",
       "      <td>0</td>\n",
       "      <td>4</td>\n",
       "      <td>2</td>\n",
       "      <td>2</td>\n",
       "      <td>7</td>\n",
       "      <td>7</td>\n",
       "      <td>4</td>\n",
       "      <td>3</td>\n",
       "    </tr>\n",
       "    <tr>\n",
       "      <th>2</th>\n",
       "      <td>3</td>\n",
       "      <td>0</td>\n",
       "      <td>5</td>\n",
       "      <td>2</td>\n",
       "      <td>2</td>\n",
       "      <td>7</td>\n",
       "      <td>7</td>\n",
       "      <td>4</td>\n",
       "      <td>3</td>\n",
       "    </tr>\n",
       "    <tr>\n",
       "      <th>3</th>\n",
       "      <td>6</td>\n",
       "      <td>1</td>\n",
       "      <td>5</td>\n",
       "      <td>2</td>\n",
       "      <td>2</td>\n",
       "      <td>7</td>\n",
       "      <td>7</td>\n",
       "      <td>4</td>\n",
       "      <td>2</td>\n",
       "    </tr>\n",
       "    <tr>\n",
       "      <th>4</th>\n",
       "      <td>5</td>\n",
       "      <td>0</td>\n",
       "      <td>4</td>\n",
       "      <td>2</td>\n",
       "      <td>2</td>\n",
       "      <td>7</td>\n",
       "      <td>7</td>\n",
       "      <td>0</td>\n",
       "      <td>3</td>\n",
       "    </tr>\n",
       "    <tr>\n",
       "      <th>...</th>\n",
       "      <td>...</td>\n",
       "      <td>...</td>\n",
       "      <td>...</td>\n",
       "      <td>...</td>\n",
       "      <td>...</td>\n",
       "      <td>...</td>\n",
       "      <td>...</td>\n",
       "      <td>...</td>\n",
       "      <td>...</td>\n",
       "    </tr>\n",
       "    <tr>\n",
       "      <th>8119</th>\n",
       "      <td>5</td>\n",
       "      <td>0</td>\n",
       "      <td>11</td>\n",
       "      <td>2</td>\n",
       "      <td>2</td>\n",
       "      <td>5</td>\n",
       "      <td>5</td>\n",
       "      <td>4</td>\n",
       "      <td>0</td>\n",
       "    </tr>\n",
       "    <tr>\n",
       "      <th>8120</th>\n",
       "      <td>5</td>\n",
       "      <td>0</td>\n",
       "      <td>11</td>\n",
       "      <td>2</td>\n",
       "      <td>2</td>\n",
       "      <td>5</td>\n",
       "      <td>5</td>\n",
       "      <td>4</td>\n",
       "      <td>0</td>\n",
       "    </tr>\n",
       "    <tr>\n",
       "      <th>8121</th>\n",
       "      <td>5</td>\n",
       "      <td>0</td>\n",
       "      <td>5</td>\n",
       "      <td>2</td>\n",
       "      <td>2</td>\n",
       "      <td>5</td>\n",
       "      <td>5</td>\n",
       "      <td>4</td>\n",
       "      <td>0</td>\n",
       "    </tr>\n",
       "    <tr>\n",
       "      <th>8122</th>\n",
       "      <td>8</td>\n",
       "      <td>1</td>\n",
       "      <td>0</td>\n",
       "      <td>2</td>\n",
       "      <td>1</td>\n",
       "      <td>7</td>\n",
       "      <td>7</td>\n",
       "      <td>0</td>\n",
       "      <td>7</td>\n",
       "    </tr>\n",
       "    <tr>\n",
       "      <th>8123</th>\n",
       "      <td>5</td>\n",
       "      <td>0</td>\n",
       "      <td>11</td>\n",
       "      <td>2</td>\n",
       "      <td>2</td>\n",
       "      <td>5</td>\n",
       "      <td>5</td>\n",
       "      <td>4</td>\n",
       "      <td>4</td>\n",
       "    </tr>\n",
       "  </tbody>\n",
       "</table>\n",
       "<p>8124 rows × 9 columns</p>\n",
       "</div>"
      ],
      "text/plain": [
       "      odor  gill-size  gill-color  stalk-surface-above-ring  \\\n",
       "0        6          1           4                         2   \n",
       "1        0          0           4                         2   \n",
       "2        3          0           5                         2   \n",
       "3        6          1           5                         2   \n",
       "4        5          0           4                         2   \n",
       "...    ...        ...         ...                       ...   \n",
       "8119     5          0          11                         2   \n",
       "8120     5          0          11                         2   \n",
       "8121     5          0           5                         2   \n",
       "8122     8          1           0                         2   \n",
       "8123     5          0          11                         2   \n",
       "\n",
       "      stalk-surface-below-ring  stalk-color-above-ring  \\\n",
       "0                            2                       7   \n",
       "1                            2                       7   \n",
       "2                            2                       7   \n",
       "3                            2                       7   \n",
       "4                            2                       7   \n",
       "...                        ...                     ...   \n",
       "8119                         2                       5   \n",
       "8120                         2                       5   \n",
       "8121                         2                       5   \n",
       "8122                         1                       7   \n",
       "8123                         2                       5   \n",
       "\n",
       "      stalk-color-below-ring  ring-type  spore-print-color  \n",
       "0                          7          4                  2  \n",
       "1                          7          4                  3  \n",
       "2                          7          4                  3  \n",
       "3                          7          4                  2  \n",
       "4                          7          0                  3  \n",
       "...                      ...        ...                ...  \n",
       "8119                       5          4                  0  \n",
       "8120                       5          4                  0  \n",
       "8121                       5          4                  0  \n",
       "8122                       7          0                  7  \n",
       "8123                       5          4                  4  \n",
       "\n",
       "[8124 rows x 9 columns]"
      ]
     },
     "execution_count": 18,
     "metadata": {},
     "output_type": "execute_result"
    }
   ],
   "source": [
    "# Applying the encoding\n",
    "X = X[['odor',\n",
    " 'gill-size',\n",
    " 'gill-color',\n",
    " 'stalk-surface-above-ring',\n",
    " 'stalk-surface-below-ring',\n",
    " 'stalk-color-above-ring',\n",
    " 'stalk-color-below-ring',\n",
    " 'ring-type',\n",
    "'spore-print-color']].apply(label_encoder.fit_transform)\n",
    "\n",
    "X"
   ]
  },
  {
   "cell_type": "code",
   "execution_count": 19,
   "id": "7774dd1a",
   "metadata": {
    "execution": {
     "iopub.execute_input": "2021-08-28T05:49:41.994334Z",
     "iopub.status.busy": "2021-08-28T05:49:41.993479Z",
     "iopub.status.idle": "2021-08-28T05:49:42.006226Z",
     "shell.execute_reply": "2021-08-28T05:49:42.006790Z",
     "shell.execute_reply.started": "2021-08-28T05:35:32.357584Z"
    },
    "papermill": {
     "duration": 0.051689,
     "end_time": "2021-08-28T05:49:42.006965",
     "exception": false,
     "start_time": "2021-08-28T05:49:41.955276",
     "status": "completed"
    },
    "tags": []
   },
   "outputs": [
    {
     "name": "stdout",
     "output_type": "stream",
     "text": [
      "[1 0 0 ... 0 1 0]\n",
      "8124\n"
     ]
    },
    {
     "name": "stderr",
     "output_type": "stream",
     "text": [
      "/opt/conda/lib/python3.7/site-packages/sklearn/utils/validation.py:72: DataConversionWarning: A column-vector y was passed when a 1d array was expected. Please change the shape of y to (n_samples, ), for example using ravel().\n",
      "  return f(**kwargs)\n"
     ]
    },
    {
     "data": {
      "text/plain": [
       "array([0, 1])"
      ]
     },
     "execution_count": 19,
     "metadata": {},
     "output_type": "execute_result"
    }
   ],
   "source": [
    "y = label_encoder.fit_transform(y)\n",
    "print(y)\n",
    "print(len(y))\n",
    "np.unique(y) # as we can see it is binary classification"
   ]
  },
  {
   "cell_type": "code",
   "execution_count": 20,
   "id": "842709dc",
   "metadata": {
    "execution": {
     "iopub.execute_input": "2021-08-28T05:49:42.078359Z",
     "iopub.status.busy": "2021-08-28T05:49:42.077680Z",
     "iopub.status.idle": "2021-08-28T05:49:42.088196Z",
     "shell.execute_reply": "2021-08-28T05:49:42.088716Z",
     "shell.execute_reply.started": "2021-08-28T05:35:32.371160Z"
    },
    "papermill": {
     "duration": 0.047887,
     "end_time": "2021-08-28T05:49:42.088900",
     "exception": false,
     "start_time": "2021-08-28T05:49:42.041013",
     "status": "completed"
    },
    "tags": []
   },
   "outputs": [
    {
     "data": {
      "text/plain": [
       "array([[0.44846106, 0.07474351, 0.29897404, ..., 0.52320456, 0.29897404,\n",
       "        0.14948702],\n",
       "       [0.        , 0.        , 0.32991444, ..., 0.57735027, 0.32991444,\n",
       "        0.24743583],\n",
       "       [0.23354968, 0.        , 0.38924947, ..., 0.54494926, 0.31139958,\n",
       "        0.23354968],\n",
       "       ...,\n",
       "       [0.44901326, 0.        , 0.44901326, ..., 0.44901326, 0.3592106 ,\n",
       "        0.        ],\n",
       "       [0.54307539, 0.06788442, 0.        , ..., 0.47519096, 0.        ,\n",
       "        0.47519096],\n",
       "       [0.32547228, 0.        , 0.71603901, ..., 0.32547228, 0.26037782,\n",
       "        0.26037782]])"
      ]
     },
     "execution_count": 20,
     "metadata": {},
     "output_type": "execute_result"
    }
   ],
   "source": [
    "# Normalizing the data\n",
    "from sklearn.preprocessing import Normalizer\n",
    "normalizer = Normalizer()\n",
    "X = normalizer.fit_transform(X)\n",
    "X"
   ]
  },
  {
   "cell_type": "code",
   "execution_count": 21,
   "id": "83110850",
   "metadata": {
    "execution": {
     "iopub.execute_input": "2021-08-28T05:49:42.160942Z",
     "iopub.status.busy": "2021-08-28T05:49:42.160261Z",
     "iopub.status.idle": "2021-08-28T05:49:42.232751Z",
     "shell.execute_reply": "2021-08-28T05:49:42.233226Z",
     "shell.execute_reply.started": "2021-08-28T05:35:32.384340Z"
    },
    "papermill": {
     "duration": 0.109968,
     "end_time": "2021-08-28T05:49:42.233427",
     "exception": false,
     "start_time": "2021-08-28T05:49:42.123459",
     "status": "completed"
    },
    "tags": []
   },
   "outputs": [
    {
     "name": "stdout",
     "output_type": "stream",
     "text": [
      "---X---\n",
      "(6499, 9)\n",
      "(1625, 9)\n",
      "---Y---\n",
      "(6499,)\n",
      "(1625,)\n"
     ]
    }
   ],
   "source": [
    "# Splitting the data\n",
    "from sklearn.model_selection import train_test_split\n",
    "X_train, X_test, y_train, y_test = train_test_split(X, y, test_size=0.2, random_state=42)\n",
    "print(\"---X---\")\n",
    "print(X_train.shape)\n",
    "print(X_test.shape)\n",
    "print(\"---Y---\")\n",
    "print(y_train.shape)\n",
    "print(y_test.shape)"
   ]
  },
  {
   "cell_type": "code",
   "execution_count": 22,
   "id": "7dcb1d01",
   "metadata": {
    "execution": {
     "iopub.execute_input": "2021-08-28T05:49:42.308762Z",
     "iopub.status.busy": "2021-08-28T05:49:42.308025Z",
     "iopub.status.idle": "2021-08-28T05:49:42.514123Z",
     "shell.execute_reply": "2021-08-28T05:49:42.514649Z",
     "shell.execute_reply.started": "2021-08-28T05:35:32.413553Z"
    },
    "papermill": {
     "duration": 0.246391,
     "end_time": "2021-08-28T05:49:42.514836",
     "exception": false,
     "start_time": "2021-08-28T05:49:42.268445",
     "status": "completed"
    },
    "tags": []
   },
   "outputs": [
    {
     "data": {
      "text/plain": [
       "DecisionTreeClassifier(criterion='entropy', max_depth=3, random_state=42)"
      ]
     },
     "execution_count": 22,
     "metadata": {},
     "output_type": "execute_result"
    }
   ],
   "source": [
    "# Modelling;\n",
    "# Classification using Decision Tree;\n",
    "from sklearn import tree # for plotting the decision tree\n",
    "from sklearn.tree import DecisionTreeClassifier\n",
    "\n",
    "dt = DecisionTreeClassifier(criterion='entropy', max_depth=3, random_state=42)\n",
    "dt.fit(X_train, y_train)"
   ]
  },
  {
   "cell_type": "code",
   "execution_count": 23,
   "id": "fc132bd7",
   "metadata": {
    "execution": {
     "iopub.execute_input": "2021-08-28T05:49:42.589473Z",
     "iopub.status.busy": "2021-08-28T05:49:42.588449Z",
     "iopub.status.idle": "2021-08-28T05:49:42.593761Z",
     "shell.execute_reply": "2021-08-28T05:49:42.594346Z",
     "shell.execute_reply.started": "2021-08-28T05:35:32.472338Z"
    },
    "papermill": {
     "duration": 0.044259,
     "end_time": "2021-08-28T05:49:42.594519",
     "exception": false,
     "start_time": "2021-08-28T05:49:42.550260",
     "status": "completed"
    },
    "tags": []
   },
   "outputs": [],
   "source": [
    "y_pred = dt.predict(X_test)\n",
    "y_train_pred = dt.predict(X_train)"
   ]
  },
  {
   "cell_type": "code",
   "execution_count": 24,
   "id": "cd4527d7",
   "metadata": {
    "execution": {
     "iopub.execute_input": "2021-08-28T05:49:42.671019Z",
     "iopub.status.busy": "2021-08-28T05:49:42.669993Z",
     "iopub.status.idle": "2021-08-28T05:49:42.676899Z",
     "shell.execute_reply": "2021-08-28T05:49:42.676396Z",
     "shell.execute_reply.started": "2021-08-28T05:35:32.478791Z"
    },
    "papermill": {
     "duration": 0.047381,
     "end_time": "2021-08-28T05:49:42.677038",
     "exception": false,
     "start_time": "2021-08-28T05:49:42.629657",
     "status": "completed"
    },
    "tags": []
   },
   "outputs": [
    {
     "name": "stdout",
     "output_type": "stream",
     "text": [
      "y_test 0.8781538461538462\n",
      "y_train 0.896291737190337\n"
     ]
    }
   ],
   "source": [
    "# Checking the metrics\n",
    "from sklearn.metrics import accuracy_score, confusion_matrix, roc_curve, classification_report, f1_score\n",
    "print(\"y_test\",accuracy_score(y_test, y_pred))\n",
    "print(\"y_train\",accuracy_score(y_train, y_train_pred))"
   ]
  },
  {
   "cell_type": "markdown",
   "id": "50031eba",
   "metadata": {
    "papermill": {
     "duration": 0.03524,
     "end_time": "2021-08-28T05:49:42.747932",
     "exception": false,
     "start_time": "2021-08-28T05:49:42.712692",
     "status": "completed"
    },
    "tags": []
   },
   "source": [
    "--------------------------------------------------"
   ]
  },
  {
   "cell_type": "code",
   "execution_count": 25,
   "id": "06b8bd5c",
   "metadata": {
    "execution": {
     "iopub.execute_input": "2021-08-28T05:49:42.853364Z",
     "iopub.status.busy": "2021-08-28T05:49:42.847414Z",
     "iopub.status.idle": "2021-08-28T05:49:42.915869Z",
     "shell.execute_reply": "2021-08-28T05:49:42.916382Z",
     "shell.execute_reply.started": "2021-08-28T05:35:32.493400Z"
    },
    "papermill": {
     "duration": 0.133119,
     "end_time": "2021-08-28T05:49:42.916552",
     "exception": false,
     "start_time": "2021-08-28T05:49:42.783433",
     "status": "completed"
    },
    "tags": []
   },
   "outputs": [
    {
     "name": "stdout",
     "output_type": "stream",
     "text": [
      "---X---\n",
      "(6499, 21)\n",
      "(1625, 21)\n",
      "---Y---\n",
      "(6499,)\n",
      "(1625,)\n"
     ]
    },
    {
     "name": "stderr",
     "output_type": "stream",
     "text": [
      "/opt/conda/lib/python3.7/site-packages/sklearn/utils/validation.py:72: DataConversionWarning: A column-vector y was passed when a 1d array was expected. Please change the shape of y to (n_samples, ), for example using ravel().\n",
      "  return f(**kwargs)\n"
     ]
    }
   ],
   "source": [
    "X = df[['cap-shape', 'cap-surface', 'cap-color', 'bruises', 'odor',\n",
    "       'gill-attachment', 'gill-spacing', 'gill-size', 'gill-color',\n",
    "       'stalk-shape', 'stalk-root', 'stalk-surface-above-ring',\n",
    "       'stalk-surface-below-ring', 'stalk-color-above-ring',\n",
    "       'stalk-color-below-ring', 'veil-color', 'ring-number',\n",
    "       'ring-type', 'spore-print-color', 'population', 'habitat']]\n",
    "y = df[['class']]\n",
    "X = X.apply(label_encoder.fit_transform)\n",
    "y = label_encoder.fit_transform(y)\n",
    "# Splitting the data\n",
    "X_train, X_test, y_train, y_test = train_test_split(X, y, test_size=0.2, random_state=42)\n",
    "print(\"---X---\")\n",
    "print(X_train.shape)\n",
    "print(X_test.shape)\n",
    "print(\"---Y---\")\n",
    "print(y_train.shape)\n",
    "print(y_test.shape)\n",
    "# Classification using Decision Tree\n",
    "dt = DecisionTreeClassifier(criterion='entropy', max_depth=3, random_state=42)\n",
    "dt.fit(X_train, y_train)\n",
    "y_pred = dt.predict(X_test)\n",
    "y_train_pred = dt.predict(X_train)"
   ]
  },
  {
   "cell_type": "code",
   "execution_count": 26,
   "id": "92b85ee3",
   "metadata": {
    "execution": {
     "iopub.execute_input": "2021-08-28T05:49:42.997431Z",
     "iopub.status.busy": "2021-08-28T05:49:42.996743Z",
     "iopub.status.idle": "2021-08-28T05:49:43.673611Z",
     "shell.execute_reply": "2021-08-28T05:49:43.672907Z",
     "shell.execute_reply.started": "2021-08-28T05:35:32.590302Z"
    },
    "papermill": {
     "duration": 0.721022,
     "end_time": "2021-08-28T05:49:43.673753",
     "exception": false,
     "start_time": "2021-08-28T05:49:42.952731",
     "status": "completed"
    },
    "tags": []
   },
   "outputs": [
    {
     "data": {
      "text/plain": [
       "[Text(125.55000000000001, 190.26, 'X[8] <= 0.5\\nentropy = 0.999\\nsamples = 6499\\nvalue = [3365, 3134]'),\n",
       " Text(83.7, 135.9, 'entropy = 0.0\\nsamples = 1398\\nvalue = [0, 1398]'),\n",
       " Text(167.4, 135.9, 'X[18] <= 1.5\\nentropy = 0.925\\nsamples = 5101\\nvalue = [3365, 1736]'),\n",
       " Text(83.7, 81.53999999999999, 'X[10] <= 0.5\\nentropy = 0.321\\nsamples = 1334\\nvalue = [78, 1256]'),\n",
       " Text(41.85, 27.180000000000007, 'entropy = 0.0\\nsamples = 78\\nvalue = [78, 0]'),\n",
       " Text(125.55000000000001, 27.180000000000007, 'entropy = 0.0\\nsamples = 1256\\nvalue = [0, 1256]'),\n",
       " Text(251.10000000000002, 81.53999999999999, 'X[7] <= 0.5\\nentropy = 0.55\\nsamples = 3767\\nvalue = [3287, 480]'),\n",
       " Text(209.25, 27.180000000000007, 'entropy = 0.183\\nsamples = 3200\\nvalue = [3111, 89]'),\n",
       " Text(292.95, 27.180000000000007, 'entropy = 0.894\\nsamples = 567\\nvalue = [176, 391]')]"
      ]
     },
     "execution_count": 26,
     "metadata": {},
     "output_type": "execute_result"
    },
    {
     "data": {
      "image/png": "[encoded data removed]",
      "text/plain": [
       "<Figure size 432x288 with 1 Axes>"
      ]
     },
     "metadata": {
      "needs_background": "light"
     },
     "output_type": "display_data"
    }
   ],
   "source": [
    "tree.plot_tree(dt.fit(X_train, y_train)) "
   ]
  },
  {
   "cell_type": "code",
   "execution_count": 27,
   "id": "ece05356",
   "metadata": {
    "execution": {
     "iopub.execute_input": "2021-08-28T05:49:43.755140Z",
     "iopub.status.busy": "2021-08-28T05:49:43.754359Z",
     "iopub.status.idle": "2021-08-28T05:49:43.762019Z",
     "shell.execute_reply": "2021-08-28T05:49:43.761217Z",
     "shell.execute_reply.started": "2021-08-28T05:35:33.229714Z"
    },
    "papermill": {
     "duration": 0.050536,
     "end_time": "2021-08-28T05:49:43.762202",
     "exception": false,
     "start_time": "2021-08-28T05:49:43.711666",
     "status": "completed"
    },
    "tags": []
   },
   "outputs": [
    {
     "name": "stdout",
     "output_type": "stream",
     "text": [
      "y_test 0.9489230769230769\n",
      "y_train 0.9592244960763194\n"
     ]
    }
   ],
   "source": [
    "# Checking the metrics\n",
    "print(\"y_test\",accuracy_score(y_test, y_pred))\n",
    "print(\"y_train\",accuracy_score(y_train, y_train_pred))"
   ]
  },
  {
   "cell_type": "code",
   "execution_count": 28,
   "id": "3467c03b",
   "metadata": {
    "execution": {
     "iopub.execute_input": "2021-08-28T05:49:43.844798Z",
     "iopub.status.busy": "2021-08-28T05:49:43.843817Z",
     "iopub.status.idle": "2021-08-28T05:49:43.851660Z",
     "shell.execute_reply": "2021-08-28T05:49:43.852193Z",
     "shell.execute_reply.started": "2021-08-28T05:35:33.239873Z"
    },
    "papermill": {
     "duration": 0.051562,
     "end_time": "2021-08-28T05:49:43.852399",
     "exception": false,
     "start_time": "2021-08-28T05:49:43.800837",
     "status": "completed"
    },
    "tags": []
   },
   "outputs": [
    {
     "data": {
      "text/plain": [
       "array([[779,  64],\n",
       "       [ 19, 763]])"
      ]
     },
     "execution_count": 28,
     "metadata": {},
     "output_type": "execute_result"
    }
   ],
   "source": [
    "confusion_matrix(y_test, y_pred)"
   ]
  },
  {
   "cell_type": "code",
   "execution_count": 29,
   "id": "c7a67a05",
   "metadata": {
    "execution": {
     "iopub.execute_input": "2021-08-28T05:49:43.936818Z",
     "iopub.status.busy": "2021-08-28T05:49:43.936133Z",
     "iopub.status.idle": "2021-08-28T05:49:43.943284Z",
     "shell.execute_reply": "2021-08-28T05:49:43.943804Z",
     "shell.execute_reply.started": "2021-08-28T05:35:33.252803Z"
    },
    "papermill": {
     "duration": 0.052026,
     "end_time": "2021-08-28T05:49:43.943981",
     "exception": false,
     "start_time": "2021-08-28T05:49:43.891955",
     "status": "completed"
    },
    "tags": []
   },
   "outputs": [
    {
     "data": {
      "text/plain": [
       "0.9484151646985705"
      ]
     },
     "execution_count": 29,
     "metadata": {},
     "output_type": "execute_result"
    }
   ],
   "source": [
    "f1_score(y_test, y_pred)"
   ]
  },
  {
   "cell_type": "code",
   "execution_count": 30,
   "id": "c66c737b",
   "metadata": {
    "execution": {
     "iopub.execute_input": "2021-08-28T05:49:44.025113Z",
     "iopub.status.busy": "2021-08-28T05:49:44.024362Z",
     "iopub.status.idle": "2021-08-28T05:49:44.031808Z",
     "shell.execute_reply": "2021-08-28T05:49:44.031240Z",
     "shell.execute_reply.started": "2021-08-28T05:35:33.261717Z"
    },
    "papermill": {
     "duration": 0.049144,
     "end_time": "2021-08-28T05:49:44.031959",
     "exception": false,
     "start_time": "2021-08-28T05:49:43.982815",
     "status": "completed"
    },
    "tags": []
   },
   "outputs": [
    {
     "data": {
      "text/plain": [
       "(array([0.        , 0.07591934, 1.        ]),\n",
       " array([0.        , 0.97570332, 1.        ]),\n",
       " array([2, 1, 0]))"
      ]
     },
     "execution_count": 30,
     "metadata": {},
     "output_type": "execute_result"
    }
   ],
   "source": [
    "roc_curve(y_test, y_pred)"
   ]
  },
  {
   "cell_type": "markdown",
   "id": "a95ba458",
   "metadata": {
    "papermill": {
     "duration": 0.039014,
     "end_time": "2021-08-28T05:49:44.109920",
     "exception": false,
     "start_time": "2021-08-28T05:49:44.070906",
     "status": "completed"
    },
    "tags": []
   },
   "source": [
    "-------------------------"
   ]
  },
  {
   "cell_type": "code",
   "execution_count": 31,
   "id": "a0a017aa",
   "metadata": {
    "execution": {
     "iopub.execute_input": "2021-08-28T05:49:44.193733Z",
     "iopub.status.busy": "2021-08-28T05:49:44.192922Z",
     "iopub.status.idle": "2021-08-28T05:49:44.360656Z",
     "shell.execute_reply": "2021-08-28T05:49:44.361412Z",
     "shell.execute_reply.started": "2021-08-28T05:35:33.269281Z"
    },
    "papermill": {
     "duration": 0.21247,
     "end_time": "2021-08-28T05:49:44.361629",
     "exception": false,
     "start_time": "2021-08-28T05:49:44.149159",
     "status": "completed"
    },
    "tags": []
   },
   "outputs": [
    {
     "name": "stdout",
     "output_type": "stream",
     "text": [
      "[05:49:44] WARNING: ../src/learner.cc:1095: Starting in XGBoost 1.3.0, the default evaluation metric used with the objective 'binary:logistic' was changed from 'error' to 'logloss'. Explicitly set eval_metric if you'd like to restore the old behavior.\n"
     ]
    },
    {
     "name": "stderr",
     "output_type": "stream",
     "text": [
      "/opt/conda/lib/python3.7/site-packages/xgboost/sklearn.py:1146: UserWarning: The use of label encoder in XGBClassifier is deprecated and will be removed in a future release. To remove this warning, do the following: 1) Pass option use_label_encoder=False when constructing XGBClassifier object; and 2) Encode your labels (y) as integers starting with 0, i.e. 0, 1, 2, ..., [num_class - 1].\n",
      "  warnings.warn(label_encoder_deprecation_msg, UserWarning)\n"
     ]
    }
   ],
   "source": [
    "# Modelling using XGB\n",
    "import xgboost as xgb\n",
    "\n",
    "xgb = xgb.XGBClassifier(n_estimators=10, seed=42)\n",
    "xgb.fit(X_train, y_train)\n",
    "y_pred = xgb.predict(X_test)\n",
    "y_train_pred = dt.predict(X_train)"
   ]
  },
  {
   "cell_type": "code",
   "execution_count": 32,
   "id": "a7bd4d9e",
   "metadata": {
    "execution": {
     "iopub.execute_input": "2021-08-28T05:49:44.450697Z",
     "iopub.status.busy": "2021-08-28T05:49:44.449784Z",
     "iopub.status.idle": "2021-08-28T05:49:44.453483Z",
     "shell.execute_reply": "2021-08-28T05:49:44.454086Z",
     "shell.execute_reply.started": "2021-08-28T05:35:33.356736Z"
    },
    "papermill": {
     "duration": 0.050478,
     "end_time": "2021-08-28T05:49:44.454256",
     "exception": false,
     "start_time": "2021-08-28T05:49:44.403778",
     "status": "completed"
    },
    "tags": []
   },
   "outputs": [
    {
     "name": "stdout",
     "output_type": "stream",
     "text": [
      "y_test 1.0\n",
      "y_train 0.9592244960763194\n"
     ]
    }
   ],
   "source": [
    "# Checking the metrics for XGB\n",
    "print(\"y_test\",accuracy_score(y_test, y_pred))\n",
    "print(\"y_train\",accuracy_score(y_train, y_train_pred))"
   ]
  }
 ],
 "metadata": {
  "kernelspec": {
   "display_name": "Python 3",
   "language": "python",
   "name": "python3"
  },
  "language_info": {
   "codemirror_mode": {
    "name": "ipython",
    "version": 3
   },
   "file_extension": ".py",
   "mimetype": "text/x-python",
   "name": "python",
   "nbconvert_exporter": "python",
   "pygments_lexer": "ipython3",
   "version": "3.7.10"
  },
  "papermill": {
   "default_parameters": {},
   "duration": 15.943194,
   "end_time": "2021-08-28T05:49:45.870336",
   "environment_variables": {},
   "exception": null,
   "input_path": "__notebook__.ipynb",
   "output_path": "__notebook__.ipynb",
   "parameters": {},
   "start_time": "2021-08-28T05:49:29.927142",
   "version": "2.3.3"
  }
 },
 "nbformat": 4,
 "nbformat_minor": 5
}
