{
 "cells": [
  {
   "cell_type": "code",
   "execution_count": 1,
   "id": "a0da2ddb",
   "metadata": {},
   "outputs": [],
   "source": [
    "# 1\n",
    "def divide7_not5(lower_bound, upper_bound):\n",
    "    \"\"\"\n",
    "    This function takes a period of numbers in the form of lower and upper bount\n",
    "    and returns all the numbers which are divisible by 7 but not 5.\n",
    "    return: List of numbers which are divisible by 7 but not 5 between the given range of numbers.\n",
    "    \"\"\"\n",
    "    return_list = []\n",
    "    for i in range(lower_bound, upper_bound+1):\n",
    "        if i%7 == 0 and i%5 != 0: return_list.append(i)\n",
    "    return return_list"
   ]
  },
  {
   "cell_type": "code",
   "execution_count": 2,
   "id": "0ea1a334",
   "metadata": {},
   "outputs": [
    {
     "name": "stdout",
     "output_type": "stream",
     "text": [
      "[2002, 2009, 2016, 2023, 2037, 2044, 2051, 2058, 2072, 2079, 2086, 2093, 2107, 2114, 2121, 2128, 2142, 2149, 2156, 2163, 2177, 2184, 2191, 2198, 2212, 2219, 2226, 2233, 2247, 2254, 2261, 2268, 2282, 2289, 2296, 2303, 2317, 2324, 2331, 2338, 2352, 2359, 2366, 2373, 2387, 2394, 2401, 2408, 2422, 2429, 2436, 2443, 2457, 2464, 2471, 2478, 2492, 2499, 2506, 2513, 2527, 2534, 2541, 2548, 2562, 2569, 2576, 2583, 2597, 2604, 2611, 2618, 2632, 2639, 2646, 2653, 2667, 2674, 2681, 2688, 2702, 2709, 2716, 2723, 2737, 2744, 2751, 2758, 2772, 2779, 2786, 2793, 2807, 2814, 2821, 2828, 2842, 2849, 2856, 2863, 2877, 2884, 2891, 2898, 2912, 2919, 2926, 2933, 2947, 2954, 2961, 2968, 2982, 2989, 2996, 3003, 3017, 3024, 3031, 3038, 3052, 3059, 3066, 3073, 3087, 3094, 3101, 3108, 3122, 3129, 3136, 3143, 3157, 3164, 3171, 3178, 3192, 3199]\n"
     ]
    }
   ],
   "source": [
    "print(divide7_not5(2000, 3200))"
   ]
  },
  {
   "cell_type": "code",
   "execution_count": 3,
   "id": "d6cc6ff8",
   "metadata": {},
   "outputs": [
    {
     "name": "stdout",
     "output_type": "stream",
     "text": [
      "Please enter your first name;Mark\n",
      "Please enter your last name;Cuban\n"
     ]
    },
    {
     "data": {
      "text/plain": [
       "'Cuban, Mark'"
      ]
     },
     "execution_count": 3,
     "metadata": {},
     "output_type": "execute_result"
    }
   ],
   "source": [
    "# 2\n",
    "def user_name():\n",
    "    \"\"\"\n",
    "    This function will return \"lastname, firstname\" when the user inputs both first name and last name\n",
    "    \"\"\"\n",
    "    x = input(\"Please enter your first name;\")\n",
    "    y = input(\"Please enter your last name;\")\n",
    "    return str(y) + ', ' + str(x)\n",
    "\n",
    "user_name()"
   ]
  },
  {
   "cell_type": "code",
   "execution_count": 4,
   "id": "fb6a835f",
   "metadata": {},
   "outputs": [
    {
     "name": "stdout",
     "output_type": "stream",
     "text": [
      "523.5987755982989\n",
      "4.1887902047863905\n"
     ]
    }
   ],
   "source": [
    "# 3\n",
    "def vol_of_sphere(diameter):\n",
    "    \"\"\"\n",
    "    This function takes in diameter and calculates, volume of sphere.\n",
    "    Volume of sphere (v) = 4/3 * pi * r * r * r\n",
    "    returns: Volume of Sphere.\n",
    "    \"\"\"\n",
    "    import numpy\n",
    "    return 4/3*numpy.pi*(diameter/2)*(diameter/2)*(diameter/2)\n",
    "    \n",
    "print(vol_of_sphere(10))\n",
    "print(vol_of_sphere(2))"
   ]
  },
  {
   "cell_type": "code",
   "execution_count": null,
   "id": "7f08d7e0",
   "metadata": {},
   "outputs": [],
   "source": []
  }
 ],
 "metadata": {
  "kernelspec": {
   "display_name": "Python 3",
   "language": "python",
   "name": "python3"
  },
  "language_info": {
   "codemirror_mode": {
    "name": "ipython",
    "version": 3
   },
   "file_extension": ".py",
   "mimetype": "text/x-python",
   "name": "python",
   "nbconvert_exporter": "python",
   "pygments_lexer": "ipython3",
   "version": "3.8.8"
  }
 },
 "nbformat": 4,
 "nbformat_minor": 5
}
