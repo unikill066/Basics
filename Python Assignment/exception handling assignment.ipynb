{
 "cells": [
  {
   "cell_type": "code",
   "execution_count": 4,
   "id": "debc5350",
   "metadata": {},
   "outputs": [
    {
     "name": "stdout",
     "output_type": "stream",
     "text": [
      "The denominator cannot have 0, please try again with different number.\n"
     ]
    }
   ],
   "source": [
    "# 1\n",
    "\n",
    "def division_func(_num, _denom):\n",
    "    \"\"\"\n",
    "    This funciton takes in both numerator and denominator to call the decimal val of the given fraction.\n",
    "    \"\"\"\n",
    "    try:\n",
    "        if _denom == 0: raise Exception(\"The denominator cannot have 0, please try again with different number.\")\n",
    "        else: return _num/_denom\n",
    "\n",
    "    except Exception as e: return e\n",
    "    \n",
    "print(division_func(5, 0))"
   ]
  },
  {
   "cell_type": "code",
   "execution_count": 7,
   "id": "fda32826",
   "metadata": {},
   "outputs": [
    {
     "name": "stdout",
     "output_type": "stream",
     "text": [
      "Americans play Baseball\n",
      "Americans play Cricket\n",
      "Americans watch Baseball\n",
      "Americans watch Cricket\n",
      "Indians play Baseball\n",
      "Indians play Cricket\n",
      "Indians watch Baseball\n",
      "Indians watch Cricket\n"
     ]
    }
   ],
   "source": [
    "# 2\n",
    "\n",
    "subjects = [\"Americans\", \"Indians\"]\n",
    "verbs = [\"play\", \"watch\"]\n",
    "objects = [\"Baseball\", \"Cricket\"]\n",
    "\n",
    "for i in subjects:\n",
    "    for j in verbs:\n",
    "        for k in objects:\n",
    "            print(i+\" \"+j+\" \"+k)"
   ]
  }
 ],
 "metadata": {
  "kernelspec": {
   "display_name": "Python 3",
   "language": "python",
   "name": "python3"
  },
  "language_info": {
   "codemirror_mode": {
    "name": "ipython",
    "version": 3
   },
   "file_extension": ".py",
   "mimetype": "text/x-python",
   "name": "python",
   "nbconvert_exporter": "python",
   "pygments_lexer": "ipython3",
   "version": "3.8.8"
  }
 },
 "nbformat": 4,
 "nbformat_minor": 5
}
