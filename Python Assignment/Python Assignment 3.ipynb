{
 "cells": [
  {
   "cell_type": "code",
   "execution_count": 1,
   "id": "6374eaa8",
   "metadata": {},
   "outputs": [
    {
     "data": {
      "text/plain": [
       "24"
      ]
     },
     "execution_count": 1,
     "metadata": {},
     "output_type": "execute_result"
    }
   ],
   "source": [
    "# 1.1\n",
    "\n",
    "# Using built-in REDUCE function;\n",
    "def multiplication(n1, n2): return n1 * n2\n",
    "\n",
    "from functools import reduce\n",
    "reduce(multiplication, [1,2,3,4])\n",
    "        "
   ]
  },
  {
   "cell_type": "code",
   "execution_count": 2,
   "id": "5615bd6a",
   "metadata": {},
   "outputs": [
    {
     "data": {
      "text/plain": [
       "24"
      ]
     },
     "execution_count": 2,
     "metadata": {},
     "output_type": "execute_result"
    }
   ],
   "source": [
    "# -->< REDUCE ><-- function;\n",
    "def myreduce(func, sequence):\n",
    "    itr = iter(sequence)\n",
    "    value = next(itr)\n",
    "    for element in itr: value = func(value, element)\n",
    "    return value\n",
    "\n",
    "myreduce(multiplication, [1,2,3,4])\n"
   ]
  },
  {
   "cell_type": "code",
   "execution_count": 3,
   "id": "c115c25d",
   "metadata": {},
   "outputs": [
    {
     "data": {
      "text/plain": [
       "[2, 4]"
      ]
     },
     "execution_count": 3,
     "metadata": {},
     "output_type": "execute_result"
    }
   ],
   "source": [
    "# 1.2\n",
    "\n",
    "def even_or_odd(number):\n",
    "    if number%2==0: return True\n",
    "    else: return False\n",
    "    \n",
    "# Using built-in FILTER\n",
    "list(filter(even_or_odd, [1,2,3,4]))"
   ]
  },
  {
   "cell_type": "code",
   "execution_count": 4,
   "id": "f0a553fd",
   "metadata": {},
   "outputs": [
    {
     "name": "stdout",
     "output_type": "stream",
     "text": [
      "[2, 4]\n"
     ]
    },
    {
     "data": {
      "text/plain": [
       "[2, 6]"
      ]
     },
     "execution_count": 4,
     "metadata": {},
     "output_type": "execute_result"
    }
   ],
   "source": [
    "# -->< FILTER ><-- function;\n",
    "def myfilter(func, sequence):\n",
    "    return_list = []\n",
    "    for i in sequence:\n",
    "        if func(i) == True:\n",
    "            return_list.append(i)\n",
    "    return return_list\n",
    "\n",
    "print(myfilter(even_or_odd, [1,2,3,4]))\n",
    "myfilter(even_or_odd, [1,2,3,45,6])"
   ]
  },
  {
   "cell_type": "code",
   "execution_count": 5,
   "id": "b8838bf2",
   "metadata": {},
   "outputs": [
    {
     "name": "stdout",
     "output_type": "stream",
     "text": [
      "['x', 'xx', 'xxx', 'xxxx']\n",
      "['y', 'yy', 'yyy', 'yyyy']\n",
      "['z', 'zz', 'zzz', 'zzzz']\n",
      "['x', 'xx', 'xxx', 'xxxx']\n"
     ]
    }
   ],
   "source": [
    "# 2\n",
    "# test code\n",
    "_str1 = 'xxxxx'\n",
    "_str2 = 'yyyyy'\n",
    "_str3 = 'zzzzz'\n",
    "l1 = [_str1[i]*i for i in range(1,len(_str1))]\n",
    "l2 = [_str2[i]*i for i in range(1,len(_str2))]\n",
    "l3 = [_str3[i]*i for i in range(1,len(_str3))]\n",
    "print(l1)\n",
    "print(l2)\n",
    "print(l3)\n",
    "l = ['x'*i for i in range(1,5)]\n",
    "print(l)\n",
    "# for i in 'xyz':\n",
    "#     l = [i*j for j in range(1,5)]\n",
    "#     print(l)"
   ]
  },
  {
   "cell_type": "code",
   "execution_count": 6,
   "id": "bcb17d39",
   "metadata": {},
   "outputs": [
    {
     "data": {
      "text/plain": [
       "['x', 'xx', 'xxx', 'xxxx', 'y', 'yy', 'yyy', 'yyyy', 'z', 'zz', 'zzz', 'zzzz']"
      ]
     },
     "execution_count": 6,
     "metadata": {},
     "output_type": "execute_result"
    }
   ],
   "source": [
    "# main code\n",
    "f = sorted([i*j for j in range(1,5) for i in 'xyz'])\n",
    "f"
   ]
  },
  {
   "cell_type": "code",
   "execution_count": 7,
   "id": "119bb173",
   "metadata": {},
   "outputs": [
    {
     "data": {
      "text/plain": [
       "['x', 'y', 'z', 'xx', 'yy', 'zz', 'xxx', 'yyy', 'zzz', 'xxxx', 'yyyy', 'zzzz']"
      ]
     },
     "execution_count": 7,
     "metadata": {},
     "output_type": "execute_result"
    }
   ],
   "source": [
    "g = [i*j for j in range(1,5) for i in 'xyz']\n",
    "g"
   ]
  },
  {
   "cell_type": "code",
   "execution_count": 8,
   "id": "1757e072",
   "metadata": {},
   "outputs": [
    {
     "data": {
      "text/plain": [
       "[[[2], [3], [4], [5]], [[2, 3, 4, 5], [3, 4, 5, 6], [4, 5, 6, 7]]]"
      ]
     },
     "execution_count": 8,
     "metadata": {},
     "output_type": "execute_result"
    }
   ],
   "source": [
    "# y = [i*j for j in range(1,6) for i in '12345678']\n",
    "y = [[[i] for i in range(2,6)]] + [[[i, i+1, i+2, i+3] for i in range(2,5)]]\n",
    "y"
   ]
  },
  {
   "cell_type": "code",
   "execution_count": 9,
   "id": "af7fd128",
   "metadata": {},
   "outputs": [
    {
     "data": {
      "text/plain": [
       "[(1, 1), (2, 2), (3, 3)]"
      ]
     },
     "execution_count": 9,
     "metadata": {},
     "output_type": "execute_result"
    }
   ],
   "source": [
    "l = [1,2,3]\n",
    "x = [(i,j) for i,j in zip(l,l)]\n",
    "x"
   ]
  }
 ],
 "metadata": {
  "kernelspec": {
   "display_name": "Python 3",
   "language": "python",
   "name": "python3"
  },
  "language_info": {
   "codemirror_mode": {
    "name": "ipython",
    "version": 3
   },
   "file_extension": ".py",
   "mimetype": "text/x-python",
   "name": "python",
   "nbconvert_exporter": "python",
   "pygments_lexer": "ipython3",
   "version": "3.8.8"
  }
 },
 "nbformat": 4,
 "nbformat_minor": 5
}
