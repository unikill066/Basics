{
 "cells": [
  {
   "cell_type": "markdown",
   "id": "6bc1aebb",
   "metadata": {},
   "source": [
    "# We are generating a dataframe out of .json files provided in this notebook"
   ]
  },
  {
   "cell_type": "code",
   "execution_count": 1,
   "id": "bc2215a7",
   "metadata": {},
   "outputs": [],
   "source": [
    "# Imports\n",
    "import os, pickle, numpy as np, pandas as pd"
   ]
  },
  {
   "cell_type": "code",
   "execution_count": 2,
   "id": "42162db8",
   "metadata": {},
   "outputs": [],
   "source": [
    "os.chdir(r'C:\\Users\\D3\\Desktop\\Zomatodatasets')"
   ]
  },
  {
   "cell_type": "code",
   "execution_count": 3,
   "id": "cbee178f",
   "metadata": {},
   "outputs": [
    {
     "name": "stdout",
     "output_type": "stream",
     "text": [
      " Volume in drive C has no label.\n",
      " Volume Serial Number is AC95-BC77\n",
      "\n",
      " Directory of C:\\Users\\D3\\Desktop\\Zomatodatasets\n",
      "\n",
      "20-02-2022  08:12    <DIR>          .\n",
      "20-02-2022  08:12    <DIR>          ..\n",
      "20-02-2022  08:12             8,783 Country-Code.xlsx\n",
      "20-02-2022  08:12         2,198,732 file1.json\n",
      "20-02-2022  08:12        20,006,072 file2.json\n",
      "20-02-2022  08:12        15,610,388 file3.json\n",
      "20-02-2022  08:12        16,427,749 file4.json\n",
      "20-02-2022  08:12           669,503 file5.json\n",
      "20-02-2022  08:12                72 Untitled.ipynb\n",
      "20-02-2022  08:12         2,257,316 zomato.csv\n",
      "               8 File(s)     57,178,615 bytes\n",
      "               2 Dir(s)  320,553,041,920 bytes free\n"
     ]
    }
   ],
   "source": [
    "ls"
   ]
  },
  {
   "cell_type": "markdown",
   "id": "b7564761",
   "metadata": {},
   "source": [
    "Reading the JSON files into a pandas dataframe"
   ]
  },
  {
   "cell_type": "code",
   "execution_count": 4,
   "id": "f7b77121",
   "metadata": {},
   "outputs": [],
   "source": [
    "jsonfile1 = pd.read_json('file1.json')\n",
    "jsonfile2 = pd.read_json('file2.json')\n",
    "jsonfile3 = pd.read_json('file3.json')\n",
    "jsonfile4 = pd.read_json('file4.json')\n",
    "jsonfile5 = pd.read_json('file5.json')"
   ]
  },
  {
   "cell_type": "code",
   "execution_count": 5,
   "id": "11b443c6",
   "metadata": {},
   "outputs": [
    {
     "name": "stdout",
     "output_type": "stream",
     "text": [
      "(479, 7)\n",
      "(550, 4)\n",
      "(550, 7)\n",
      "(479, 4)\n",
      "(300, 7)\n"
     ]
    }
   ],
   "source": [
    "print(jsonfile1.shape)\n",
    "print(jsonfile2.shape)\n",
    "print(jsonfile3.shape)\n",
    "print(jsonfile4.shape)\n",
    "print(jsonfile5.shape)"
   ]
  },
  {
   "cell_type": "code",
   "execution_count": 6,
   "id": "3a7621d1",
   "metadata": {},
   "outputs": [
    {
     "data": {
      "text/html": [
       "<div>\n",
       "<style scoped>\n",
       "    .dataframe tbody tr th:only-of-type {\n",
       "        vertical-align: middle;\n",
       "    }\n",
       "\n",
       "    .dataframe tbody tr th {\n",
       "        vertical-align: top;\n",
       "    }\n",
       "\n",
       "    .dataframe thead th {\n",
       "        text-align: right;\n",
       "    }\n",
       "</style>\n",
       "<table border=\"1\" class=\"dataframe\">\n",
       "  <thead>\n",
       "    <tr style=\"text-align: right;\">\n",
       "      <th></th>\n",
       "      <th>results_found</th>\n",
       "      <th>restaurants</th>\n",
       "      <th>results_shown</th>\n",
       "      <th>results_start</th>\n",
       "      <th>message</th>\n",
       "      <th>code</th>\n",
       "      <th>status</th>\n",
       "    </tr>\n",
       "  </thead>\n",
       "  <tbody>\n",
       "    <tr>\n",
       "      <th>0</th>\n",
       "      <td>17151.0</td>\n",
       "      <td>[{'restaurant': {'has_online_delivery': 1, 'ph...</td>\n",
       "      <td>20.0</td>\n",
       "      <td>1.0</td>\n",
       "      <td>NaN</td>\n",
       "      <td>NaN</td>\n",
       "      <td>NaN</td>\n",
       "    </tr>\n",
       "    <tr>\n",
       "      <th>1</th>\n",
       "      <td>4748.0</td>\n",
       "      <td>[{'restaurant': {'has_online_delivery': 0, 'ph...</td>\n",
       "      <td>20.0</td>\n",
       "      <td>1.0</td>\n",
       "      <td>NaN</td>\n",
       "      <td>NaN</td>\n",
       "      <td>NaN</td>\n",
       "    </tr>\n",
       "  </tbody>\n",
       "</table>\n",
       "</div>"
      ],
      "text/plain": [
       "   results_found                                        restaurants  \\\n",
       "0        17151.0  [{'restaurant': {'has_online_delivery': 1, 'ph...   \n",
       "1         4748.0  [{'restaurant': {'has_online_delivery': 0, 'ph...   \n",
       "\n",
       "   results_shown  results_start message  code status  \n",
       "0           20.0            1.0     NaN   NaN    NaN  \n",
       "1           20.0            1.0     NaN   NaN    NaN  "
      ]
     },
     "execution_count": 6,
     "metadata": {},
     "output_type": "execute_result"
    }
   ],
   "source": [
    "jsonfile1.head(2)"
   ]
  },
  {
   "cell_type": "code",
   "execution_count": 7,
   "id": "3644bf3f",
   "metadata": {},
   "outputs": [
    {
     "data": {
      "text/html": [
       "<div>\n",
       "<style scoped>\n",
       "    .dataframe tbody tr th:only-of-type {\n",
       "        vertical-align: middle;\n",
       "    }\n",
       "\n",
       "    .dataframe tbody tr th {\n",
       "        vertical-align: top;\n",
       "    }\n",
       "\n",
       "    .dataframe thead th {\n",
       "        text-align: right;\n",
       "    }\n",
       "</style>\n",
       "<table border=\"1\" class=\"dataframe\">\n",
       "  <thead>\n",
       "    <tr style=\"text-align: right;\">\n",
       "      <th></th>\n",
       "      <th>results_found</th>\n",
       "      <th>results_start</th>\n",
       "      <th>results_shown</th>\n",
       "      <th>restaurants</th>\n",
       "    </tr>\n",
       "  </thead>\n",
       "  <tbody>\n",
       "    <tr>\n",
       "      <th>0</th>\n",
       "      <td>1263908</td>\n",
       "      <td>21</td>\n",
       "      <td>20</td>\n",
       "      <td>[{'restaurant': {'R': {'res_id': 16668008}, 'a...</td>\n",
       "    </tr>\n",
       "    <tr>\n",
       "      <th>1</th>\n",
       "      <td>1263908</td>\n",
       "      <td>21</td>\n",
       "      <td>20</td>\n",
       "      <td>[{'restaurant': {'R': {'res_id': 16668008}, 'a...</td>\n",
       "    </tr>\n",
       "  </tbody>\n",
       "</table>\n",
       "</div>"
      ],
      "text/plain": [
       "   results_found  results_start  results_shown  \\\n",
       "0        1263908             21             20   \n",
       "1        1263908             21             20   \n",
       "\n",
       "                                         restaurants  \n",
       "0  [{'restaurant': {'R': {'res_id': 16668008}, 'a...  \n",
       "1  [{'restaurant': {'R': {'res_id': 16668008}, 'a...  "
      ]
     },
     "execution_count": 7,
     "metadata": {},
     "output_type": "execute_result"
    }
   ],
   "source": [
    "jsonfile2.head(2)"
   ]
  },
  {
   "cell_type": "code",
   "execution_count": 8,
   "id": "89d5c327",
   "metadata": {},
   "outputs": [
    {
     "data": {
      "text/html": [
       "<div>\n",
       "<style scoped>\n",
       "    .dataframe tbody tr th:only-of-type {\n",
       "        vertical-align: middle;\n",
       "    }\n",
       "\n",
       "    .dataframe tbody tr th {\n",
       "        vertical-align: top;\n",
       "    }\n",
       "\n",
       "    .dataframe thead th {\n",
       "        text-align: right;\n",
       "    }\n",
       "</style>\n",
       "<table border=\"1\" class=\"dataframe\">\n",
       "  <thead>\n",
       "    <tr style=\"text-align: right;\">\n",
       "      <th></th>\n",
       "      <th>results_found</th>\n",
       "      <th>results_start</th>\n",
       "      <th>results_shown</th>\n",
       "      <th>restaurants</th>\n",
       "      <th>code</th>\n",
       "      <th>status</th>\n",
       "      <th>message</th>\n",
       "    </tr>\n",
       "  </thead>\n",
       "  <tbody>\n",
       "    <tr>\n",
       "      <th>0</th>\n",
       "      <td>1263908.0</td>\n",
       "      <td>41.0</td>\n",
       "      <td>20.0</td>\n",
       "      <td>[{'restaurant': {'R': {'res_id': 2100702}, 'ap...</td>\n",
       "      <td>NaN</td>\n",
       "      <td>NaN</td>\n",
       "      <td>NaN</td>\n",
       "    </tr>\n",
       "    <tr>\n",
       "      <th>1</th>\n",
       "      <td>1263908.0</td>\n",
       "      <td>41.0</td>\n",
       "      <td>20.0</td>\n",
       "      <td>[{'restaurant': {'R': {'res_id': 2100702}, 'ap...</td>\n",
       "      <td>NaN</td>\n",
       "      <td>NaN</td>\n",
       "      <td>NaN</td>\n",
       "    </tr>\n",
       "  </tbody>\n",
       "</table>\n",
       "</div>"
      ],
      "text/plain": [
       "   results_found  results_start  results_shown  \\\n",
       "0      1263908.0           41.0           20.0   \n",
       "1      1263908.0           41.0           20.0   \n",
       "\n",
       "                                         restaurants  code status message  \n",
       "0  [{'restaurant': {'R': {'res_id': 2100702}, 'ap...   NaN    NaN     NaN  \n",
       "1  [{'restaurant': {'R': {'res_id': 2100702}, 'ap...   NaN    NaN     NaN  "
      ]
     },
     "execution_count": 8,
     "metadata": {},
     "output_type": "execute_result"
    }
   ],
   "source": [
    "jsonfile3.head(2)"
   ]
  },
  {
   "cell_type": "code",
   "execution_count": 9,
   "id": "3f78ccf6",
   "metadata": {},
   "outputs": [
    {
     "data": {
      "text/html": [
       "<div>\n",
       "<style scoped>\n",
       "    .dataframe tbody tr th:only-of-type {\n",
       "        vertical-align: middle;\n",
       "    }\n",
       "\n",
       "    .dataframe tbody tr th {\n",
       "        vertical-align: top;\n",
       "    }\n",
       "\n",
       "    .dataframe thead th {\n",
       "        text-align: right;\n",
       "    }\n",
       "</style>\n",
       "<table border=\"1\" class=\"dataframe\">\n",
       "  <thead>\n",
       "    <tr style=\"text-align: right;\">\n",
       "      <th></th>\n",
       "      <th>results_found</th>\n",
       "      <th>results_start</th>\n",
       "      <th>results_shown</th>\n",
       "      <th>restaurants</th>\n",
       "    </tr>\n",
       "  </thead>\n",
       "  <tbody>\n",
       "    <tr>\n",
       "      <th>0</th>\n",
       "      <td>1263908</td>\n",
       "      <td>61</td>\n",
       "      <td>20</td>\n",
       "      <td>[{'restaurant': {'R': {'res_id': 16604370}, 'a...</td>\n",
       "    </tr>\n",
       "    <tr>\n",
       "      <th>1</th>\n",
       "      <td>1263908</td>\n",
       "      <td>61</td>\n",
       "      <td>20</td>\n",
       "      <td>[{'restaurant': {'R': {'res_id': 16604370}, 'a...</td>\n",
       "    </tr>\n",
       "  </tbody>\n",
       "</table>\n",
       "</div>"
      ],
      "text/plain": [
       "   results_found  results_start  results_shown  \\\n",
       "0        1263908             61             20   \n",
       "1        1263908             61             20   \n",
       "\n",
       "                                         restaurants  \n",
       "0  [{'restaurant': {'R': {'res_id': 16604370}, 'a...  \n",
       "1  [{'restaurant': {'R': {'res_id': 16604370}, 'a...  "
      ]
     },
     "execution_count": 9,
     "metadata": {},
     "output_type": "execute_result"
    }
   ],
   "source": [
    "jsonfile4.head(2)"
   ]
  },
  {
   "cell_type": "code",
   "execution_count": 10,
   "id": "9d6a688a",
   "metadata": {},
   "outputs": [
    {
     "data": {
      "text/html": [
       "<div>\n",
       "<style scoped>\n",
       "    .dataframe tbody tr th:only-of-type {\n",
       "        vertical-align: middle;\n",
       "    }\n",
       "\n",
       "    .dataframe tbody tr th {\n",
       "        vertical-align: top;\n",
       "    }\n",
       "\n",
       "    .dataframe thead th {\n",
       "        text-align: right;\n",
       "    }\n",
       "</style>\n",
       "<table border=\"1\" class=\"dataframe\">\n",
       "  <thead>\n",
       "    <tr style=\"text-align: right;\">\n",
       "      <th></th>\n",
       "      <th>results_found</th>\n",
       "      <th>restaurants</th>\n",
       "      <th>results_shown</th>\n",
       "      <th>results_start</th>\n",
       "      <th>message</th>\n",
       "      <th>code</th>\n",
       "      <th>status</th>\n",
       "    </tr>\n",
       "  </thead>\n",
       "  <tbody>\n",
       "    <tr>\n",
       "      <th>0</th>\n",
       "      <td>0.0</td>\n",
       "      <td>[]</td>\n",
       "      <td>0.0</td>\n",
       "      <td>1.0</td>\n",
       "      <td>NaN</td>\n",
       "      <td>NaN</td>\n",
       "      <td>NaN</td>\n",
       "    </tr>\n",
       "    <tr>\n",
       "      <th>1</th>\n",
       "      <td>6835.0</td>\n",
       "      <td>[{'restaurant': {'has_online_delivery': 0, 'ph...</td>\n",
       "      <td>20.0</td>\n",
       "      <td>1.0</td>\n",
       "      <td>NaN</td>\n",
       "      <td>NaN</td>\n",
       "      <td>NaN</td>\n",
       "    </tr>\n",
       "    <tr>\n",
       "      <th>2</th>\n",
       "      <td>0.0</td>\n",
       "      <td>[]</td>\n",
       "      <td>0.0</td>\n",
       "      <td>1.0</td>\n",
       "      <td>NaN</td>\n",
       "      <td>NaN</td>\n",
       "      <td>NaN</td>\n",
       "    </tr>\n",
       "    <tr>\n",
       "      <th>3</th>\n",
       "      <td>0.0</td>\n",
       "      <td>[]</td>\n",
       "      <td>0.0</td>\n",
       "      <td>1.0</td>\n",
       "      <td>NaN</td>\n",
       "      <td>NaN</td>\n",
       "      <td>NaN</td>\n",
       "    </tr>\n",
       "    <tr>\n",
       "      <th>4</th>\n",
       "      <td>8680.0</td>\n",
       "      <td>[{'restaurant': {'has_online_delivery': 0, 'ph...</td>\n",
       "      <td>20.0</td>\n",
       "      <td>1.0</td>\n",
       "      <td>NaN</td>\n",
       "      <td>NaN</td>\n",
       "      <td>NaN</td>\n",
       "    </tr>\n",
       "  </tbody>\n",
       "</table>\n",
       "</div>"
      ],
      "text/plain": [
       "   results_found                                        restaurants  \\\n",
       "0            0.0                                                 []   \n",
       "1         6835.0  [{'restaurant': {'has_online_delivery': 0, 'ph...   \n",
       "2            0.0                                                 []   \n",
       "3            0.0                                                 []   \n",
       "4         8680.0  [{'restaurant': {'has_online_delivery': 0, 'ph...   \n",
       "\n",
       "   results_shown  results_start message  code status  \n",
       "0            0.0            1.0     NaN   NaN    NaN  \n",
       "1           20.0            1.0     NaN   NaN    NaN  \n",
       "2            0.0            1.0     NaN   NaN    NaN  \n",
       "3            0.0            1.0     NaN   NaN    NaN  \n",
       "4           20.0            1.0     NaN   NaN    NaN  "
      ]
     },
     "execution_count": 10,
     "metadata": {},
     "output_type": "execute_result"
    }
   ],
   "source": [
    "jsonfile5.head()"
   ]
  },
  {
   "cell_type": "markdown",
   "id": "f71bf300",
   "metadata": {},
   "source": [
    "Checking what is actually present in the data df['restaurants']"
   ]
  },
  {
   "cell_type": "code",
   "execution_count": 11,
   "id": "79bca9ae",
   "metadata": {
    "scrolled": false
   },
   "outputs": [
    {
     "name": "stdout",
     "output_type": "stream",
     "text": [
      "{'restaurant': {'R': {'res_id': 17093124},\n",
      "                'apikey': 'b90e6a8c738410315a20c449fe2eb1b1',\n",
      "                'average_cost_for_two': 40,\n",
      "                'cuisines': 'Cuban, Spanish',\n",
      "                'currency': '$',\n",
      "                'deeplink': 'zomato://restaurant/17093124',\n",
      "                'establishment_types': [],\n",
      "                'events_url': 'https://www.zomato.com/tampa-bay/columbia-restaurant-tampa/events#tabtop?utm_source=api_basic_user&utm_medium=api&utm_campaign=v2.1',\n",
      "                'featured_image': 'https://b.zmtcdn.com/data/pictures/4/17093124/247c3cc7a1642ade08b01f86d5436481_featured_v2.jpg',\n",
      "                'has_online_delivery': 0,\n",
      "                'has_table_booking': 0,\n",
      "                'id': '17093124',\n",
      "                'is_delivering_now': 0,\n",
      "                'location': {'address': '2117 E 7th Ave, Tampa, FL 33605',\n",
      "                             'city': 'Tampa Bay',\n",
      "                             'city_id': 604,\n",
      "                             'country_id': 216,\n",
      "                             'latitude': '27.9598840000',\n",
      "                             'locality': 'Ybor City',\n",
      "                             'locality_verbose': 'Ybor City, Tampa Bay',\n",
      "                             'longitude': '-82.4351499000',\n",
      "                             'zipcode': '33605'},\n",
      "                'menu_url': 'https://www.zomato.com/tampa-bay/columbia-restaurant-tampa/menu?utm_source=api_basic_user&utm_medium=api&utm_campaign=v2.1&openSwipeBox=menu&showMinimal=1#tabtop',\n",
      "                'name': 'Columbia Restaurant',\n",
      "                'offers': [],\n",
      "                'photos_url': 'https://www.zomato.com/tampa-bay/columbia-restaurant-tampa/photos?utm_source=api_basic_user&utm_medium=api&utm_campaign=v2.1#tabtop',\n",
      "                'price_range': 3,\n",
      "                'switch_to_order_menu': 0,\n",
      "                'thumb': 'https://b.zmtcdn.com/data/pictures/4/17093124/247c3cc7a1642ade08b01f86d5436481_featured_v2.jpg',\n",
      "                'url': 'https://www.zomato.com/tampa-bay/columbia-restaurant-tampa?utm_source=api_basic_user&utm_medium=api&utm_campaign=v2.1',\n",
      "                'user_rating': {'aggregate_rating': '4.4',\n",
      "                                'rating_color': '5BA829',\n",
      "                                'rating_text': 'Very Good',\n",
      "                                'votes': '1746'}}}\n"
     ]
    }
   ],
   "source": [
    "from pprint import pprint  \n",
    "pprint(jsonfile5['restaurants'][4][0])"
   ]
  },
  {
   "cell_type": "code",
   "execution_count": 12,
   "id": "f3a01b93",
   "metadata": {},
   "outputs": [
    {
     "name": "stdout",
     "output_type": "stream",
     "text": [
      "(15, 2)\n"
     ]
    },
    {
     "data": {
      "text/plain": [
       "(9551, 21)"
      ]
     },
     "execution_count": 12,
     "metadata": {},
     "output_type": "execute_result"
    }
   ],
   "source": [
    "# Checking the actual dataset\n",
    "country_code_df = pd.read_excel('Country-Code.xlsx')\n",
    "zomato_df = pd.read_csv('zomato.csv')\n",
    "print(country_code_df.shape)\n",
    "zomato_df.shape"
   ]
  },
  {
   "cell_type": "code",
   "execution_count": 13,
   "id": "3225d9a3",
   "metadata": {},
   "outputs": [
    {
     "name": "stdout",
     "output_type": "stream",
     "text": [
      "<class 'pandas.core.frame.DataFrame'>\n",
      "RangeIndex: 9551 entries, 0 to 9550\n",
      "Data columns (total 21 columns):\n",
      " #   Column                Non-Null Count  Dtype  \n",
      "---  ------                --------------  -----  \n",
      " 0   Restaurant ID         9551 non-null   int64  \n",
      " 1   Restaurant Name       9551 non-null   object \n",
      " 2   Country Code          9551 non-null   int64  \n",
      " 3   City                  9551 non-null   object \n",
      " 4   Address               9551 non-null   object \n",
      " 5   Locality              9551 non-null   object \n",
      " 6   Locality Verbose      9551 non-null   object \n",
      " 7   Longitude             9551 non-null   float64\n",
      " 8   Latitude              9551 non-null   float64\n",
      " 9   Cuisines              9542 non-null   object \n",
      " 10  Average Cost for two  9551 non-null   int64  \n",
      " 11  Currency              9551 non-null   object \n",
      " 12  Has Table booking     9551 non-null   object \n",
      " 13  Has Online delivery   9551 non-null   object \n",
      " 14  Is delivering now     9551 non-null   object \n",
      " 15  Switch to order menu  9551 non-null   object \n",
      " 16  Price range           9551 non-null   int64  \n",
      " 17  Aggregate rating      9551 non-null   float64\n",
      " 18  Rating color          9551 non-null   object \n",
      " 19  Rating text           9551 non-null   object \n",
      " 20  Votes                 9551 non-null   int64  \n",
      "dtypes: float64(3), int64(5), object(13)\n",
      "memory usage: 1.5+ MB\n"
     ]
    }
   ],
   "source": [
    "zomato_df.info()"
   ]
  },
  {
   "cell_type": "code",
   "execution_count": 14,
   "id": "d313f81a",
   "metadata": {},
   "outputs": [
    {
     "data": {
      "text/html": [
       "<div>\n",
       "<style scoped>\n",
       "    .dataframe tbody tr th:only-of-type {\n",
       "        vertical-align: middle;\n",
       "    }\n",
       "\n",
       "    .dataframe tbody tr th {\n",
       "        vertical-align: top;\n",
       "    }\n",
       "\n",
       "    .dataframe thead th {\n",
       "        text-align: right;\n",
       "    }\n",
       "</style>\n",
       "<table border=\"1\" class=\"dataframe\">\n",
       "  <thead>\n",
       "    <tr style=\"text-align: right;\">\n",
       "      <th></th>\n",
       "      <th>Restaurant ID</th>\n",
       "      <th>Restaurant Name</th>\n",
       "      <th>Country Code</th>\n",
       "      <th>City</th>\n",
       "      <th>Address</th>\n",
       "      <th>Locality</th>\n",
       "      <th>Locality Verbose</th>\n",
       "      <th>Longitude</th>\n",
       "      <th>Latitude</th>\n",
       "      <th>Cuisines</th>\n",
       "      <th>...</th>\n",
       "      <th>Currency</th>\n",
       "      <th>Has Table booking</th>\n",
       "      <th>Has Online delivery</th>\n",
       "      <th>Is delivering now</th>\n",
       "      <th>Switch to order menu</th>\n",
       "      <th>Price range</th>\n",
       "      <th>Aggregate rating</th>\n",
       "      <th>Rating color</th>\n",
       "      <th>Rating text</th>\n",
       "      <th>Votes</th>\n",
       "    </tr>\n",
       "  </thead>\n",
       "  <tbody>\n",
       "    <tr>\n",
       "      <th>0</th>\n",
       "      <td>6317637</td>\n",
       "      <td>Le Petit Souffle</td>\n",
       "      <td>162</td>\n",
       "      <td>Makati City</td>\n",
       "      <td>Third Floor, Century City Mall, Kalayaan Avenu...</td>\n",
       "      <td>Century City Mall, Poblacion, Makati City</td>\n",
       "      <td>Century City Mall, Poblacion, Makati City, Mak...</td>\n",
       "      <td>121.027535</td>\n",
       "      <td>14.565443</td>\n",
       "      <td>French, Japanese, Desserts</td>\n",
       "      <td>...</td>\n",
       "      <td>Botswana Pula(P)</td>\n",
       "      <td>Yes</td>\n",
       "      <td>No</td>\n",
       "      <td>No</td>\n",
       "      <td>No</td>\n",
       "      <td>3</td>\n",
       "      <td>4.8</td>\n",
       "      <td>Dark Green</td>\n",
       "      <td>Excellent</td>\n",
       "      <td>314</td>\n",
       "    </tr>\n",
       "    <tr>\n",
       "      <th>1</th>\n",
       "      <td>6304287</td>\n",
       "      <td>Izakaya Kikufuji</td>\n",
       "      <td>162</td>\n",
       "      <td>Makati City</td>\n",
       "      <td>Little Tokyo, 2277 Chino Roces Avenue, Legaspi...</td>\n",
       "      <td>Little Tokyo, Legaspi Village, Makati City</td>\n",
       "      <td>Little Tokyo, Legaspi Village, Makati City, Ma...</td>\n",
       "      <td>121.014101</td>\n",
       "      <td>14.553708</td>\n",
       "      <td>Japanese</td>\n",
       "      <td>...</td>\n",
       "      <td>Botswana Pula(P)</td>\n",
       "      <td>Yes</td>\n",
       "      <td>No</td>\n",
       "      <td>No</td>\n",
       "      <td>No</td>\n",
       "      <td>3</td>\n",
       "      <td>4.5</td>\n",
       "      <td>Dark Green</td>\n",
       "      <td>Excellent</td>\n",
       "      <td>591</td>\n",
       "    </tr>\n",
       "  </tbody>\n",
       "</table>\n",
       "<p>2 rows × 21 columns</p>\n",
       "</div>"
      ],
      "text/plain": [
       "   Restaurant ID   Restaurant Name  Country Code         City  \\\n",
       "0        6317637  Le Petit Souffle           162  Makati City   \n",
       "1        6304287  Izakaya Kikufuji           162  Makati City   \n",
       "\n",
       "                                             Address  \\\n",
       "0  Third Floor, Century City Mall, Kalayaan Avenu...   \n",
       "1  Little Tokyo, 2277 Chino Roces Avenue, Legaspi...   \n",
       "\n",
       "                                     Locality  \\\n",
       "0   Century City Mall, Poblacion, Makati City   \n",
       "1  Little Tokyo, Legaspi Village, Makati City   \n",
       "\n",
       "                                    Locality Verbose   Longitude   Latitude  \\\n",
       "0  Century City Mall, Poblacion, Makati City, Mak...  121.027535  14.565443   \n",
       "1  Little Tokyo, Legaspi Village, Makati City, Ma...  121.014101  14.553708   \n",
       "\n",
       "                     Cuisines  ...          Currency Has Table booking  \\\n",
       "0  French, Japanese, Desserts  ...  Botswana Pula(P)               Yes   \n",
       "1                    Japanese  ...  Botswana Pula(P)               Yes   \n",
       "\n",
       "  Has Online delivery Is delivering now Switch to order menu Price range  \\\n",
       "0                  No                No                   No           3   \n",
       "1                  No                No                   No           3   \n",
       "\n",
       "   Aggregate rating  Rating color Rating text Votes  \n",
       "0               4.8    Dark Green   Excellent   314  \n",
       "1               4.5    Dark Green   Excellent   591  \n",
       "\n",
       "[2 rows x 21 columns]"
      ]
     },
     "execution_count": 14,
     "metadata": {},
     "output_type": "execute_result"
    }
   ],
   "source": [
    "zomato_df.head(2)"
   ]
  },
  {
   "cell_type": "markdown",
   "id": "0d560d54",
   "metadata": {},
   "source": [
    "# Checking and building login for the first index"
   ]
  },
  {
   "cell_type": "code",
   "execution_count": 15,
   "id": "39c037e4",
   "metadata": {},
   "outputs": [
    {
     "name": "stdout",
     "output_type": "stream",
     "text": [
      "(76, 1)\n"
     ]
    },
    {
     "data": {
      "text/html": [
       "<div>\n",
       "<style scoped>\n",
       "    .dataframe tbody tr th:only-of-type {\n",
       "        vertical-align: middle;\n",
       "    }\n",
       "\n",
       "    .dataframe tbody tr th {\n",
       "        vertical-align: top;\n",
       "    }\n",
       "\n",
       "    .dataframe thead th {\n",
       "        text-align: right;\n",
       "    }\n",
       "</style>\n",
       "<table border=\"1\" class=\"dataframe\">\n",
       "  <thead>\n",
       "    <tr style=\"text-align: right;\">\n",
       "      <th></th>\n",
       "      <th>restaurants</th>\n",
       "    </tr>\n",
       "  </thead>\n",
       "  <tbody>\n",
       "    <tr>\n",
       "      <th>0</th>\n",
       "      <td>[{'restaurant': {'has_online_delivery': 1, 'ph...</td>\n",
       "    </tr>\n",
       "    <tr>\n",
       "      <th>1</th>\n",
       "      <td>[{'restaurant': {'has_online_delivery': 0, 'ph...</td>\n",
       "    </tr>\n",
       "    <tr>\n",
       "      <th>2</th>\n",
       "      <td>[{'restaurant': {'has_online_delivery': 0, 'ph...</td>\n",
       "    </tr>\n",
       "    <tr>\n",
       "      <th>3</th>\n",
       "      <td>[{'restaurant': {'has_online_delivery': 0, 'ph...</td>\n",
       "    </tr>\n",
       "    <tr>\n",
       "      <th>4</th>\n",
       "      <td>[{'restaurant': {'has_online_delivery': 0, 'ph...</td>\n",
       "    </tr>\n",
       "  </tbody>\n",
       "</table>\n",
       "</div>"
      ],
      "text/plain": [
       "                                         restaurants\n",
       "0  [{'restaurant': {'has_online_delivery': 1, 'ph...\n",
       "1  [{'restaurant': {'has_online_delivery': 0, 'ph...\n",
       "2  [{'restaurant': {'has_online_delivery': 0, 'ph...\n",
       "3  [{'restaurant': {'has_online_delivery': 0, 'ph...\n",
       "4  [{'restaurant': {'has_online_delivery': 0, 'ph..."
      ]
     },
     "execution_count": 15,
     "metadata": {},
     "output_type": "execute_result"
    }
   ],
   "source": [
    "temp_df = jsonfile1[['restaurants']]\n",
    "temp_df = temp_df.dropna()\n",
    "print(temp_df.shape)\n",
    "temp_df.head()"
   ]
  },
  {
   "cell_type": "code",
   "execution_count": 16,
   "id": "8dafc0ee",
   "metadata": {},
   "outputs": [],
   "source": [
    "temp_list = list()\n",
    "\n",
    "for i in range(0, len(temp_df['restaurants'])):\n",
    "    for j in range(0, len(temp_df['restaurants'][i])):\n",
    "        for k, l in temp_df['restaurants'][i][j].items():\n",
    "            if l not in temp_list: temp_list.append(l)"
   ]
  },
  {
   "cell_type": "code",
   "execution_count": 17,
   "id": "1a9d68c8",
   "metadata": {},
   "outputs": [
    {
     "name": "stdout",
     "output_type": "stream",
     "text": [
      "1180\n"
     ]
    },
    {
     "data": {
      "text/plain": [
       "{'has_online_delivery': 0,\n",
       " 'photos_url': 'https://www.zomato.com/lucknow/the-chocolate-heaven-gomti-nagar/photos?utm_source=api_basic_user&utm_medium=api&utm_campaign=v2.1#tabtop',\n",
       " 'url': 'https://www.zomato.com/lucknow/the-chocolate-heaven-gomti-nagar?utm_source=api_basic_user&utm_medium=api&utm_campaign=v2.1',\n",
       " 'price_range': 2,\n",
       " 'apikey': 'b90e6a8c738410315a20c449fe2eb1b1',\n",
       " 'user_rating': {'rating_text': 'Very Good',\n",
       "  'rating_color': '5BA829',\n",
       "  'votes': '165',\n",
       "  'aggregate_rating': '4.1'},\n",
       " 'R': {'res_id': 801636},\n",
       " 'name': 'The Chocolate Heaven',\n",
       " 'has_table_booking': 0,\n",
       " 'is_delivering_now': 0,\n",
       " 'deeplink': 'zomato://restaurant/801636',\n",
       " 'menu_url': 'https://www.zomato.com/lucknow/the-chocolate-heaven-gomti-nagar/menu?utm_source=api_basic_user&utm_medium=api&utm_campaign=v2.1&openSwipeBox=menu&showMinimal=1#tabtop',\n",
       " 'average_cost_for_two': 400,\n",
       " 'switch_to_order_menu': 0,\n",
       " 'offers': [],\n",
       " 'cuisines': 'Cafe, Italian, Desserts',\n",
       " 'location': {'latitude': '26.8558534680',\n",
       "  'address': '3/553, Vivek Khand, Opposite Aryans, Gomti Nagar, Lucknow, Uttar Pradesh',\n",
       "  'city': 'Lucknow',\n",
       "  'country_id': 1,\n",
       "  'locality_verbose': 'Gomti Nagar, Lucknow',\n",
       "  'city_id': 8,\n",
       "  'zipcode': '226010',\n",
       "  'longitude': '81.0008741721',\n",
       "  'locality': 'Gomti Nagar'},\n",
       " 'featured_image': 'https://b.zmtcdn.com/data/pictures/6/801636/d7d1d65a56a3ef244c4a5e575cbbfc12_featured_v2.jpg',\n",
       " 'currency': 'Rs.',\n",
       " 'id': '801636',\n",
       " 'thumb': 'https://b.zmtcdn.com/data/pictures/6/801636/d7d1d65a56a3ef244c4a5e575cbbfc12_featured_v2.jpg',\n",
       " 'establishment_types': [],\n",
       " 'events_url': 'https://www.zomato.com/lucknow/the-chocolate-heaven-gomti-nagar/events#tabtop?utm_source=api_basic_user&utm_medium=api&utm_campaign=v2.1'}"
      ]
     },
     "execution_count": 17,
     "metadata": {},
     "output_type": "execute_result"
    }
   ],
   "source": [
    "print(len(temp_list))\n",
    "temp_list[150]"
   ]
  },
  {
   "cell_type": "code",
   "execution_count": 18,
   "id": "557ea542",
   "metadata": {},
   "outputs": [
    {
     "data": {
      "text/plain": [
       "Index(['Restaurant ID', 'Restaurant Name', 'Country Code', 'City', 'Address',\n",
       "       'Locality', 'Locality Verbose', 'Longitude', 'Latitude', 'Cuisines',\n",
       "       'Average Cost for two', 'Currency', 'Has Table booking',\n",
       "       'Has Online delivery', 'Is delivering now', 'Switch to order menu',\n",
       "       'Price range', 'Aggregate rating', 'Rating color', 'Rating text',\n",
       "       'Votes'],\n",
       "      dtype='object')"
      ]
     },
     "execution_count": 18,
     "metadata": {},
     "output_type": "execute_result"
    }
   ],
   "source": [
    "# Most important features for building a dataset\n",
    "zomato_df.columns"
   ]
  },
  {
   "cell_type": "markdown",
   "id": "0e00d03e",
   "metadata": {},
   "source": [
    "However if we check the json we have multiple url's which contain images, text data along with reviews, et cetera which is very important to do some text analytics (find which dish is popular in a restaurant and how good the food and ambience is?)\n",
    "\n",
    "But here we are creating a vanilla dataset out of the most important features"
   ]
  },
  {
   "cell_type": "code",
   "execution_count": 19,
   "id": "bce6c236",
   "metadata": {},
   "outputs": [
    {
     "name": "stdout",
     "output_type": "stream",
     "text": [
      "has_online_delivery --> 1 \n",
      "\n",
      "photos_url --> https://www.zomato.com/HauzKhasSocial/photos?utm_source=api_basic_user&utm_medium=api&utm_campaign=v2.1#tabtop \n",
      "\n",
      "url --> https://www.zomato.com/HauzKhasSocial?utm_source=api_basic_user&utm_medium=api&utm_campaign=v2.1 \n",
      "\n",
      "price_range --> 3 \n",
      "\n",
      "apikey --> b90e6a8c738410315a20c449fe2eb1b1 \n",
      "\n",
      "user_rating --> {'rating_text': 'Very Good', 'rating_color': '5BA829', 'votes': '7931', 'aggregate_rating': '4.3'} \n",
      "\n",
      "R --> {'res_id': 308322} \n",
      "\n",
      "name --> Hauz Khas Social \n",
      "\n",
      "cuisines --> Continental, American, Asian, North Indian \n",
      "\n",
      "is_delivering_now --> 0 \n",
      "\n",
      "deeplink --> zomato://restaurant/308322 \n",
      "\n",
      "menu_url --> https://www.zomato.com/HauzKhasSocial/menu?utm_source=api_basic_user&utm_medium=api&utm_campaign=v2.1&openSwipeBox=menu&showMinimal=1#tabtop \n",
      "\n",
      "average_cost_for_two --> 1600 \n",
      "\n",
      "book_url --> https://www.zomato.com/HauzKhasSocial/book?utm_source=api_basic_user&utm_medium=api&utm_campaign=v2.1 \n",
      "\n",
      "switch_to_order_menu --> 0 \n",
      "\n",
      "offers --> [] \n",
      "\n",
      "has_table_booking --> 1 \n",
      "\n",
      "location --> {'latitude': '28.5542851000', 'address': '9-A & 12, Hauz Khas Village, New Delhi', 'city': 'New Delhi', 'country_id': 1, 'locality_verbose': 'Hauz Khas Village, New Delhi', 'city_id': 1, 'zipcode': '', 'longitude': '77.1944706000', 'locality': 'Hauz Khas Village'} \n",
      "\n",
      "featured_image --> https://b.zmtcdn.com/data/pictures/2/308322/cf86dbd8b8ca4d40682c7713f112cc07_featured_v2.jpg \n",
      "\n",
      "zomato_events --> [{'event': {'display_date': '05 April - 21 May', 'end_time': '01:00:00', 'date_added': '2017-04-05 14:18:49', 'start_date': '2017-04-05', 'photos': [{'photo': {'photo_id': 185854, 'order': 0, 'type': 'NORMAL', 'url': 'https://b.zmtcdn.com/data/zomato_events/photos/b73/ec1691986700e9839313d9353b2e4b73_1491382129.jpg', 'md5sum': 'ec1691986700e9839313d9353b2e4b73', 'uuid': 1491382088569328, 'thumb_url': 'https://b.zmtcdn.com/data/zomato_events/photos/b73/ec1691986700e9839313d9353b2e4b73_1491382129.jpg?fit=around%7C100%3A100&crop=100%3A100%3B%2A%2C%2A'}}, {'photo': {'photo_id': 185884, 'order': 1, 'type': 'NORMAL', 'url': 'https://b.zmtcdn.com/data/zomato_events/photos/3ce/8cda41e10df03e71d09faa00f64143ce_1491384739.jpg', 'md5sum': '8cda41e10df03e71d09faa00f64143ce', 'uuid': 1491384715122322, 'thumb_url': 'https://b.zmtcdn.com/data/zomato_events/photos/3ce/8cda41e10df03e71d09faa00f64143ce_1491384739.jpg?fit=around%7C100%3A100&crop=100%3A100%3B%2A%2C%2A'}}], 'share_url': 'http://www.zoma.to/r/308322', 'description': \"It's #IPL season and we're screening 'em all! Come one and all to witness the drama and pair it with our On Tap offer on beer - Stella + Hoegaarden! See you!\", 'title': 'IPL Match Screenings', 'display_time': '10:00 am - 01:00 am', 'book_link': '', 'restaurants': [], 'disclaimer': 'Restaurants are solely responsible for the service; availability and quality of the events including all or any cancellations/ modifications/ complaints.', 'friendly_start_date': '05 April', 'is_end_time_set': 1, 'event_id': 118139, 'end_date': '2017-05-21', 'event_category': 0, 'friendly_end_date': '21 May', 'is_active': 1, 'start_time': '10:00:00', 'is_valid': 1, 'event_category_name': ''}}] \n",
      "\n",
      "currency --> Rs. \n",
      "\n",
      "id --> 308322 \n",
      "\n",
      "thumb --> https://b.zmtcdn.com/data/pictures/2/308322/cf86dbd8b8ca4d40682c7713f112cc07_featured_v2.jpg \n",
      "\n",
      "establishment_types --> [] \n",
      "\n",
      "events_url --> https://www.zomato.com/HauzKhasSocial/events#tabtop?utm_source=api_basic_user&utm_medium=api&utm_campaign=v2.1 \n",
      "\n",
      "\n",
      "\n",
      "\n",
      "\n"
     ]
    }
   ],
   "source": [
    "var_list = list()\n",
    "for i in temp_list[:1]:\n",
    "    for j, k in i.items():\n",
    "        print(j,'-->',k,'\\n')\n",
    "    print('\\n\\n\\n')"
   ]
  },
  {
   "cell_type": "code",
   "execution_count": 20,
   "id": "0c1ef1cd",
   "metadata": {},
   "outputs": [],
   "source": [
    "var_list = list()\n",
    "for i in temp_list[:2]:\n",
    "    for j, k in i.items():\n",
    "        var_list.append({'Restaurant ID':i['R']['res_id'],\n",
    "        'Restaurant Name':i['name'],\n",
    "        'Country Code':i['location']['country_id'],\n",
    "        'City':i['location']['city'],\n",
    "        'Address': i['location']['address'],\n",
    "        'Locality': i['location']['locality'], \n",
    "        'Locality Verbose': i['location']['locality_verbose'] , \n",
    "        'Longitude': i['location']['latitude'],\n",
    "        'Latitude': i['location']['longitude'], \n",
    "        'Cuisines': i['cuisines'],\n",
    "        'Average Cost for two': i['average_cost_for_two'], \n",
    "        'Currency':i['currency'] , \n",
    "        'Has Table booking':i['has_table_booking'] ,\n",
    "        'Has Online delivery':i['has_online_delivery'] , \n",
    "        'Is delivering now': i['is_delivering_now'], \n",
    "        'Switch to order menu':i['switch_to_order_menu'] ,\n",
    "        'Price range':i['price_range'] , \n",
    "        'Aggregate rating':i['user_rating']['aggregate_rating'] , \n",
    "        'Rating color':i['user_rating']['rating_color'] , \n",
    "        'Rating text': i['user_rating']['rating_text'],\n",
    "        'Votes': i['user_rating']['votes']\n",
    "        })"
   ]
  },
  {
   "cell_type": "code",
   "execution_count": 21,
   "id": "a601c040",
   "metadata": {},
   "outputs": [
    {
     "data": {
      "text/plain": [
       "{'Restaurant ID': 308322,\n",
       " 'Restaurant Name': 'Hauz Khas Social',\n",
       " 'Country Code': 1,\n",
       " 'City': 'New Delhi',\n",
       " 'Address': '9-A & 12, Hauz Khas Village, New Delhi',\n",
       " 'Locality': 'Hauz Khas Village',\n",
       " 'Locality Verbose': 'Hauz Khas Village, New Delhi',\n",
       " 'Longitude': '28.5542851000',\n",
       " 'Latitude': '77.1944706000',\n",
       " 'Cuisines': 'Continental, American, Asian, North Indian',\n",
       " 'Average Cost for two': 1600,\n",
       " 'Currency': 'Rs.',\n",
       " 'Has Table booking': 1,\n",
       " 'Has Online delivery': 1,\n",
       " 'Is delivering now': 0,\n",
       " 'Switch to order menu': 0,\n",
       " 'Price range': 3,\n",
       " 'Aggregate rating': '4.3',\n",
       " 'Rating color': '5BA829',\n",
       " 'Rating text': 'Very Good',\n",
       " 'Votes': '7931'}"
      ]
     },
     "execution_count": 21,
     "metadata": {},
     "output_type": "execute_result"
    }
   ],
   "source": [
    "var_list[0]"
   ]
  },
  {
   "cell_type": "markdown",
   "id": "ec1eefdb",
   "metadata": {},
   "source": [
    "# Building the Main Logic"
   ]
  },
  {
   "cell_type": "code",
   "execution_count": 22,
   "id": "6eb0687f",
   "metadata": {},
   "outputs": [],
   "source": [
    "def create_structured_json(unstructured_json):\n",
    "\n",
    "    \"\"\"\n",
    "    Columns needed:\n",
    "       'Restaurant ID', 'Restaurant Name', 'Country Code', 'City', 'Address',\n",
    "       'Locality', 'Locality Verbose', 'Longitude', 'Latitude', 'Cuisines',\n",
    "       'Average Cost for two', 'Currency', 'Has Table booking',\n",
    "       'Has Online delivery', 'Is delivering now', 'Switch to order menu',\n",
    "       'Price range', 'Aggregate rating', 'Rating color', 'Rating text',\n",
    "       'Votes'\n",
    "    \"\"\"\n",
    "    try:\n",
    "        import pandas as pd\n",
    "        json_df = pd.read_json(unstructured_json)\n",
    "        temp_df = json_df[['restaurants']].dropna()\n",
    "        temp_list, var_list = [], []\n",
    "\n",
    "        for i in range(0, len(temp_df['restaurants'])):\n",
    "            for j in range(0, len(temp_df['restaurants'][i])):\n",
    "                for k, l in temp_df['restaurants'][i][j].items():\n",
    "                    if l not in temp_list: temp_list.append(l)\n",
    "                        \n",
    "        for i in temp_list:\n",
    "            for j, k in i.items():\n",
    "                var_list.append({\n",
    "                'Restaurant ID':i['R']['res_id'],\n",
    "                'Restaurant Name':i['name'],\n",
    "                'Country Code':i['location']['country_id'],\n",
    "                'City':i['location']['city'],\n",
    "                'Address': i['location']['address'],\n",
    "                'Locality': i['location']['locality'], \n",
    "                'Locality Verbose': i['location']['locality_verbose'] , \n",
    "                'Longitude': i['location']['latitude'],\n",
    "                'Latitude': i['location']['longitude'], \n",
    "                'Cuisines': i['cuisines'],\n",
    "                'Average Cost for two': i['average_cost_for_two'], \n",
    "                'Currency':i['currency'] , \n",
    "                'Has Table booking':i['has_table_booking'] ,\n",
    "                'Has Online delivery':i['has_online_delivery'] , \n",
    "                'Is delivering now': i['is_delivering_now'], \n",
    "                'Switch to order menu':i['switch_to_order_menu'] ,\n",
    "                'Price range':i['price_range'] , \n",
    "                'Aggregate rating':i['user_rating']['aggregate_rating'] , \n",
    "                'Rating color':i['user_rating']['rating_color'] , \n",
    "                'Rating text': i['user_rating']['rating_text'],\n",
    "                'Votes': i['user_rating']['votes']\n",
    "                })\n",
    "                \n",
    "        return pd.DataFrame(var_list)\n",
    "                \n",
    "    except Exception as error_msg: return error_msg"
   ]
  },
  {
   "cell_type": "code",
   "execution_count": 23,
   "id": "35ff23e0",
   "metadata": {},
   "outputs": [
    {
     "data": {
      "text/plain": [
       "(27340, 21)"
      ]
     },
     "execution_count": 23,
     "metadata": {},
     "output_type": "execute_result"
    }
   ],
   "source": [
    "jsondf1 = create_structured_json('file1.json')\n",
    "jsondf1.shape"
   ]
  },
  {
   "cell_type": "code",
   "execution_count": 24,
   "id": "0f526e59",
   "metadata": {},
   "outputs": [
    {
     "data": {
      "text/plain": [
       "(88167, 21)"
      ]
     },
     "execution_count": 24,
     "metadata": {},
     "output_type": "execute_result"
    }
   ],
   "source": [
    "jsondf2 = create_structured_json('file2.json')\n",
    "jsondf2.shape"
   ]
  },
  {
   "cell_type": "code",
   "execution_count": 25,
   "id": "7e9e9ee7",
   "metadata": {},
   "outputs": [
    {
     "data": {
      "text/plain": [
       "(74791, 21)"
      ]
     },
     "execution_count": 25,
     "metadata": {},
     "output_type": "execute_result"
    }
   ],
   "source": [
    "jsondf3 = create_structured_json('file3.json')\n",
    "jsondf3.shape"
   ]
  },
  {
   "cell_type": "code",
   "execution_count": 26,
   "id": "46c61563",
   "metadata": {},
   "outputs": [
    {
     "data": {
      "text/plain": [
       "(69312, 21)"
      ]
     },
     "execution_count": 26,
     "metadata": {},
     "output_type": "execute_result"
    }
   ],
   "source": [
    "jsondf4 = create_structured_json('file4.json')\n",
    "jsondf4.shape"
   ]
  },
  {
   "cell_type": "code",
   "execution_count": 27,
   "id": "507543ba",
   "metadata": {},
   "outputs": [
    {
     "data": {
      "text/plain": [
       "(9660, 21)"
      ]
     },
     "execution_count": 27,
     "metadata": {},
     "output_type": "execute_result"
    }
   ],
   "source": [
    "jsondf5 = create_structured_json('file5.json')\n",
    "jsondf5.shape"
   ]
  },
  {
   "cell_type": "code",
   "execution_count": 28,
   "id": "2f598860",
   "metadata": {},
   "outputs": [],
   "source": [
    "final_df = pd.concat([jsondf1, jsondf2, jsondf3, jsondf4, jsondf5], ignore_index=True)"
   ]
  },
  {
   "cell_type": "code",
   "execution_count": 29,
   "id": "e488bb75",
   "metadata": {},
   "outputs": [
    {
     "data": {
      "text/plain": [
       "(269270, 21)"
      ]
     },
     "execution_count": 29,
     "metadata": {},
     "output_type": "execute_result"
    }
   ],
   "source": [
    "final_df.shape"
   ]
  },
  {
   "cell_type": "code",
   "execution_count": 30,
   "id": "e012daa3",
   "metadata": {},
   "outputs": [],
   "source": [
    "final_df = final_df.drop_duplicates(subset=['Restaurant ID']).reset_index(drop=True)"
   ]
  },
  {
   "cell_type": "code",
   "execution_count": 31,
   "id": "40ae5b31",
   "metadata": {},
   "outputs": [
    {
     "data": {
      "text/plain": [
       "(9577, 21)"
      ]
     },
     "execution_count": 31,
     "metadata": {},
     "output_type": "execute_result"
    }
   ],
   "source": [
    "final_df.shape"
   ]
  },
  {
   "cell_type": "code",
   "execution_count": 32,
   "id": "357a30a9",
   "metadata": {},
   "outputs": [
    {
     "data": {
      "text/html": [
       "<div>\n",
       "<style scoped>\n",
       "    .dataframe tbody tr th:only-of-type {\n",
       "        vertical-align: middle;\n",
       "    }\n",
       "\n",
       "    .dataframe tbody tr th {\n",
       "        vertical-align: top;\n",
       "    }\n",
       "\n",
       "    .dataframe thead th {\n",
       "        text-align: right;\n",
       "    }\n",
       "</style>\n",
       "<table border=\"1\" class=\"dataframe\">\n",
       "  <thead>\n",
       "    <tr style=\"text-align: right;\">\n",
       "      <th></th>\n",
       "      <th>Restaurant ID</th>\n",
       "      <th>Restaurant Name</th>\n",
       "      <th>Country Code</th>\n",
       "      <th>City</th>\n",
       "      <th>Address</th>\n",
       "      <th>Locality</th>\n",
       "      <th>Locality Verbose</th>\n",
       "      <th>Longitude</th>\n",
       "      <th>Latitude</th>\n",
       "      <th>Cuisines</th>\n",
       "      <th>...</th>\n",
       "      <th>Currency</th>\n",
       "      <th>Has Table booking</th>\n",
       "      <th>Has Online delivery</th>\n",
       "      <th>Is delivering now</th>\n",
       "      <th>Switch to order menu</th>\n",
       "      <th>Price range</th>\n",
       "      <th>Aggregate rating</th>\n",
       "      <th>Rating color</th>\n",
       "      <th>Rating text</th>\n",
       "      <th>Votes</th>\n",
       "    </tr>\n",
       "  </thead>\n",
       "  <tbody>\n",
       "    <tr>\n",
       "      <th>0</th>\n",
       "      <td>308322</td>\n",
       "      <td>Hauz Khas Social</td>\n",
       "      <td>1</td>\n",
       "      <td>New Delhi</td>\n",
       "      <td>9-A &amp; 12, Hauz Khas Village, New Delhi</td>\n",
       "      <td>Hauz Khas Village</td>\n",
       "      <td>Hauz Khas Village, New Delhi</td>\n",
       "      <td>28.5542851000</td>\n",
       "      <td>77.1944706000</td>\n",
       "      <td>Continental, American, Asian, North Indian</td>\n",
       "      <td>...</td>\n",
       "      <td>Rs.</td>\n",
       "      <td>1</td>\n",
       "      <td>1</td>\n",
       "      <td>0</td>\n",
       "      <td>0</td>\n",
       "      <td>3</td>\n",
       "      <td>4.3</td>\n",
       "      <td>5BA829</td>\n",
       "      <td>Very Good</td>\n",
       "      <td>7931</td>\n",
       "    </tr>\n",
       "    <tr>\n",
       "      <th>1</th>\n",
       "      <td>18037817</td>\n",
       "      <td>Qubitos - The Terrace Cafe</td>\n",
       "      <td>1</td>\n",
       "      <td>New Delhi</td>\n",
       "      <td>C-7, Vishal Enclave, Opposite Metro Pillar 417...</td>\n",
       "      <td>Rajouri Garden</td>\n",
       "      <td>Rajouri Garden, New Delhi</td>\n",
       "      <td>28.6471325000</td>\n",
       "      <td>77.1177015000</td>\n",
       "      <td>Thai, European, Mexican, North Indian, Chinese...</td>\n",
       "      <td>...</td>\n",
       "      <td>Rs.</td>\n",
       "      <td>1</td>\n",
       "      <td>0</td>\n",
       "      <td>0</td>\n",
       "      <td>0</td>\n",
       "      <td>3</td>\n",
       "      <td>4.5</td>\n",
       "      <td>3F7E00</td>\n",
       "      <td>Excellent</td>\n",
       "      <td>778</td>\n",
       "    </tr>\n",
       "    <tr>\n",
       "      <th>2</th>\n",
       "      <td>312345</td>\n",
       "      <td>The Hudson Cafe</td>\n",
       "      <td>1</td>\n",
       "      <td>New Delhi</td>\n",
       "      <td>2524, 1st Floor, Hudson Lane, Delhi University...</td>\n",
       "      <td>Delhi University-GTB Nagar</td>\n",
       "      <td>Delhi University-GTB Nagar, New Delhi</td>\n",
       "      <td>28.6949468000</td>\n",
       "      <td>77.2043172000</td>\n",
       "      <td>Cafe, Italian, Continental, Chinese</td>\n",
       "      <td>...</td>\n",
       "      <td>Rs.</td>\n",
       "      <td>0</td>\n",
       "      <td>1</td>\n",
       "      <td>0</td>\n",
       "      <td>0</td>\n",
       "      <td>2</td>\n",
       "      <td>4.4</td>\n",
       "      <td>5BA829</td>\n",
       "      <td>Very Good</td>\n",
       "      <td>1537</td>\n",
       "    </tr>\n",
       "    <tr>\n",
       "      <th>3</th>\n",
       "      <td>307490</td>\n",
       "      <td>Summer House Cafe</td>\n",
       "      <td>1</td>\n",
       "      <td>New Delhi</td>\n",
       "      <td>1st Floor, DDA Shopping Complex, Aurobindo Pla...</td>\n",
       "      <td>Hauz Khas</td>\n",
       "      <td>Hauz Khas, New Delhi</td>\n",
       "      <td>28.5525204000</td>\n",
       "      <td>77.2038090000</td>\n",
       "      <td>Italian, Continental</td>\n",
       "      <td>...</td>\n",
       "      <td>Rs.</td>\n",
       "      <td>1</td>\n",
       "      <td>0</td>\n",
       "      <td>0</td>\n",
       "      <td>0</td>\n",
       "      <td>3</td>\n",
       "      <td>4.1</td>\n",
       "      <td>5BA829</td>\n",
       "      <td>Very Good</td>\n",
       "      <td>1823</td>\n",
       "    </tr>\n",
       "    <tr>\n",
       "      <th>4</th>\n",
       "      <td>18241537</td>\n",
       "      <td>38 Barracks</td>\n",
       "      <td>1</td>\n",
       "      <td>New Delhi</td>\n",
       "      <td>M-38, Outer Circle, Connaught Place, New Delhi</td>\n",
       "      <td>Connaught Place</td>\n",
       "      <td>Connaught Place, New Delhi</td>\n",
       "      <td>28.6330248887</td>\n",
       "      <td>77.2228584811</td>\n",
       "      <td>North Indian, Italian, Asian, American</td>\n",
       "      <td>...</td>\n",
       "      <td>Rs.</td>\n",
       "      <td>1</td>\n",
       "      <td>0</td>\n",
       "      <td>0</td>\n",
       "      <td>0</td>\n",
       "      <td>3</td>\n",
       "      <td>4.4</td>\n",
       "      <td>5BA829</td>\n",
       "      <td>Very Good</td>\n",
       "      <td>840</td>\n",
       "    </tr>\n",
       "    <tr>\n",
       "      <th>...</th>\n",
       "      <td>...</td>\n",
       "      <td>...</td>\n",
       "      <td>...</td>\n",
       "      <td>...</td>\n",
       "      <td>...</td>\n",
       "      <td>...</td>\n",
       "      <td>...</td>\n",
       "      <td>...</td>\n",
       "      <td>...</td>\n",
       "      <td>...</td>\n",
       "      <td>...</td>\n",
       "      <td>...</td>\n",
       "      <td>...</td>\n",
       "      <td>...</td>\n",
       "      <td>...</td>\n",
       "      <td>...</td>\n",
       "      <td>...</td>\n",
       "      <td>...</td>\n",
       "      <td>...</td>\n",
       "      <td>...</td>\n",
       "      <td>...</td>\n",
       "    </tr>\n",
       "    <tr>\n",
       "      <th>9572</th>\n",
       "      <td>17582627</td>\n",
       "      <td>Senor Iguanas</td>\n",
       "      <td>216</td>\n",
       "      <td>Pocatello</td>\n",
       "      <td>961 Hiline Rd, Pocatello, ID 83201</td>\n",
       "      <td>Pocatello</td>\n",
       "      <td>Pocatello, Pocatello</td>\n",
       "      <td>42.8942000000</td>\n",
       "      <td>-112.4433000000</td>\n",
       "      <td>Mexican</td>\n",
       "      <td>...</td>\n",
       "      <td>$</td>\n",
       "      <td>0</td>\n",
       "      <td>0</td>\n",
       "      <td>0</td>\n",
       "      <td>0</td>\n",
       "      <td>1</td>\n",
       "      <td>3.6</td>\n",
       "      <td>9ACD32</td>\n",
       "      <td>Good</td>\n",
       "      <td>108</td>\n",
       "    </tr>\n",
       "    <tr>\n",
       "      <th>9573</th>\n",
       "      <td>17582625</td>\n",
       "      <td>Sandpiper Restaurant &amp; Lounge</td>\n",
       "      <td>216</td>\n",
       "      <td>Pocatello</td>\n",
       "      <td>1400 Bench Rd, Pocatello, ID 83201</td>\n",
       "      <td>Pocatello</td>\n",
       "      <td>Pocatello, Pocatello</td>\n",
       "      <td>42.9012000000</td>\n",
       "      <td>-112.4320000000</td>\n",
       "      <td>American, Seafood, Steak</td>\n",
       "      <td>...</td>\n",
       "      <td>$</td>\n",
       "      <td>0</td>\n",
       "      <td>0</td>\n",
       "      <td>0</td>\n",
       "      <td>0</td>\n",
       "      <td>3</td>\n",
       "      <td>3.6</td>\n",
       "      <td>9ACD32</td>\n",
       "      <td>Good</td>\n",
       "      <td>85</td>\n",
       "    </tr>\n",
       "    <tr>\n",
       "      <th>9574</th>\n",
       "      <td>17582668</td>\n",
       "      <td>Texas Roadhouse</td>\n",
       "      <td>216</td>\n",
       "      <td>Pocatello</td>\n",
       "      <td>560 Bullock Street, Pocatello, ID 83202</td>\n",
       "      <td>Chubbuck</td>\n",
       "      <td>Chubbuck, Pocatello</td>\n",
       "      <td>42.9105180000</td>\n",
       "      <td>-112.4613260000</td>\n",
       "      <td>American, BBQ, Steak</td>\n",
       "      <td>...</td>\n",
       "      <td>$</td>\n",
       "      <td>0</td>\n",
       "      <td>0</td>\n",
       "      <td>0</td>\n",
       "      <td>0</td>\n",
       "      <td>3</td>\n",
       "      <td>3.5</td>\n",
       "      <td>9ACD32</td>\n",
       "      <td>Good</td>\n",
       "      <td>83</td>\n",
       "    </tr>\n",
       "    <tr>\n",
       "      <th>9575</th>\n",
       "      <td>17582498</td>\n",
       "      <td>Riverwalk Cafe</td>\n",
       "      <td>216</td>\n",
       "      <td>Pocatello</td>\n",
       "      <td>695 E Main St, Lava Hot Springs, ID 83246</td>\n",
       "      <td>Lava Hot Springs</td>\n",
       "      <td>Lava Hot Springs, Pocatello</td>\n",
       "      <td>42.6200000000</td>\n",
       "      <td>-112.0132000000</td>\n",
       "      <td>Asian, Thai</td>\n",
       "      <td>...</td>\n",
       "      <td>$</td>\n",
       "      <td>0</td>\n",
       "      <td>0</td>\n",
       "      <td>0</td>\n",
       "      <td>0</td>\n",
       "      <td>1</td>\n",
       "      <td>3.6</td>\n",
       "      <td>9ACD32</td>\n",
       "      <td>Good</td>\n",
       "      <td>91</td>\n",
       "    </tr>\n",
       "    <tr>\n",
       "      <th>9576</th>\n",
       "      <td>17582499</td>\n",
       "      <td>Royal Hotel</td>\n",
       "      <td>216</td>\n",
       "      <td>Pocatello</td>\n",
       "      <td>11 E Main St, Lava Hot Springs, ID 83246</td>\n",
       "      <td>Lava Hot Springs</td>\n",
       "      <td>Lava Hot Springs, Pocatello</td>\n",
       "      <td>42.6192000000</td>\n",
       "      <td>-112.0127000000</td>\n",
       "      <td>Pizza, Bar Food</td>\n",
       "      <td>...</td>\n",
       "      <td>$</td>\n",
       "      <td>0</td>\n",
       "      <td>0</td>\n",
       "      <td>0</td>\n",
       "      <td>0</td>\n",
       "      <td>1</td>\n",
       "      <td>3.6</td>\n",
       "      <td>9ACD32</td>\n",
       "      <td>Good</td>\n",
       "      <td>59</td>\n",
       "    </tr>\n",
       "  </tbody>\n",
       "</table>\n",
       "<p>9577 rows × 21 columns</p>\n",
       "</div>"
      ],
      "text/plain": [
       "      Restaurant ID                Restaurant Name  Country Code       City  \\\n",
       "0            308322               Hauz Khas Social             1  New Delhi   \n",
       "1          18037817     Qubitos - The Terrace Cafe             1  New Delhi   \n",
       "2            312345                The Hudson Cafe             1  New Delhi   \n",
       "3            307490              Summer House Cafe             1  New Delhi   \n",
       "4          18241537                    38 Barracks             1  New Delhi   \n",
       "...             ...                            ...           ...        ...   \n",
       "9572       17582627                  Senor Iguanas           216  Pocatello   \n",
       "9573       17582625  Sandpiper Restaurant & Lounge           216  Pocatello   \n",
       "9574       17582668                Texas Roadhouse           216  Pocatello   \n",
       "9575       17582498                 Riverwalk Cafe           216  Pocatello   \n",
       "9576       17582499                    Royal Hotel           216  Pocatello   \n",
       "\n",
       "                                                Address  \\\n",
       "0                9-A & 12, Hauz Khas Village, New Delhi   \n",
       "1     C-7, Vishal Enclave, Opposite Metro Pillar 417...   \n",
       "2     2524, 1st Floor, Hudson Lane, Delhi University...   \n",
       "3     1st Floor, DDA Shopping Complex, Aurobindo Pla...   \n",
       "4        M-38, Outer Circle, Connaught Place, New Delhi   \n",
       "...                                                 ...   \n",
       "9572                 961 Hiline Rd, Pocatello, ID 83201   \n",
       "9573                 1400 Bench Rd, Pocatello, ID 83201   \n",
       "9574            560 Bullock Street, Pocatello, ID 83202   \n",
       "9575          695 E Main St, Lava Hot Springs, ID 83246   \n",
       "9576           11 E Main St, Lava Hot Springs, ID 83246   \n",
       "\n",
       "                        Locality                       Locality Verbose  \\\n",
       "0              Hauz Khas Village           Hauz Khas Village, New Delhi   \n",
       "1                 Rajouri Garden              Rajouri Garden, New Delhi   \n",
       "2     Delhi University-GTB Nagar  Delhi University-GTB Nagar, New Delhi   \n",
       "3                      Hauz Khas                   Hauz Khas, New Delhi   \n",
       "4                Connaught Place             Connaught Place, New Delhi   \n",
       "...                          ...                                    ...   \n",
       "9572                   Pocatello                   Pocatello, Pocatello   \n",
       "9573                   Pocatello                   Pocatello, Pocatello   \n",
       "9574                    Chubbuck                    Chubbuck, Pocatello   \n",
       "9575            Lava Hot Springs            Lava Hot Springs, Pocatello   \n",
       "9576            Lava Hot Springs            Lava Hot Springs, Pocatello   \n",
       "\n",
       "          Longitude         Latitude  \\\n",
       "0     28.5542851000    77.1944706000   \n",
       "1     28.6471325000    77.1177015000   \n",
       "2     28.6949468000    77.2043172000   \n",
       "3     28.5525204000    77.2038090000   \n",
       "4     28.6330248887    77.2228584811   \n",
       "...             ...              ...   \n",
       "9572  42.8942000000  -112.4433000000   \n",
       "9573  42.9012000000  -112.4320000000   \n",
       "9574  42.9105180000  -112.4613260000   \n",
       "9575  42.6200000000  -112.0132000000   \n",
       "9576  42.6192000000  -112.0127000000   \n",
       "\n",
       "                                               Cuisines  ...  Currency  \\\n",
       "0            Continental, American, Asian, North Indian  ...       Rs.   \n",
       "1     Thai, European, Mexican, North Indian, Chinese...  ...       Rs.   \n",
       "2                   Cafe, Italian, Continental, Chinese  ...       Rs.   \n",
       "3                                  Italian, Continental  ...       Rs.   \n",
       "4                North Indian, Italian, Asian, American  ...       Rs.   \n",
       "...                                                 ...  ...       ...   \n",
       "9572                                            Mexican  ...         $   \n",
       "9573                           American, Seafood, Steak  ...         $   \n",
       "9574                               American, BBQ, Steak  ...         $   \n",
       "9575                                        Asian, Thai  ...         $   \n",
       "9576                                    Pizza, Bar Food  ...         $   \n",
       "\n",
       "     Has Table booking  Has Online delivery  Is delivering now  \\\n",
       "0                    1                    1                  0   \n",
       "1                    1                    0                  0   \n",
       "2                    0                    1                  0   \n",
       "3                    1                    0                  0   \n",
       "4                    1                    0                  0   \n",
       "...                ...                  ...                ...   \n",
       "9572                 0                    0                  0   \n",
       "9573                 0                    0                  0   \n",
       "9574                 0                    0                  0   \n",
       "9575                 0                    0                  0   \n",
       "9576                 0                    0                  0   \n",
       "\n",
       "      Switch to order menu  Price range  Aggregate rating Rating color  \\\n",
       "0                        0            3               4.3       5BA829   \n",
       "1                        0            3               4.5       3F7E00   \n",
       "2                        0            2               4.4       5BA829   \n",
       "3                        0            3               4.1       5BA829   \n",
       "4                        0            3               4.4       5BA829   \n",
       "...                    ...          ...               ...          ...   \n",
       "9572                     0            1               3.6       9ACD32   \n",
       "9573                     0            3               3.6       9ACD32   \n",
       "9574                     0            3               3.5       9ACD32   \n",
       "9575                     0            1               3.6       9ACD32   \n",
       "9576                     0            1               3.6       9ACD32   \n",
       "\n",
       "     Rating text Votes  \n",
       "0      Very Good  7931  \n",
       "1      Excellent   778  \n",
       "2      Very Good  1537  \n",
       "3      Very Good  1823  \n",
       "4      Very Good   840  \n",
       "...          ...   ...  \n",
       "9572        Good   108  \n",
       "9573        Good    85  \n",
       "9574        Good    83  \n",
       "9575        Good    91  \n",
       "9576        Good    59  \n",
       "\n",
       "[9577 rows x 21 columns]"
      ]
     },
     "execution_count": 32,
     "metadata": {},
     "output_type": "execute_result"
    }
   ],
   "source": [
    "final_df"
   ]
  },
  {
   "cell_type": "code",
   "execution_count": 33,
   "id": "990d4ef2",
   "metadata": {},
   "outputs": [
    {
     "name": "stdout",
     "output_type": "stream",
     "text": [
      "(9551, 21)\n",
      "(9577, 21)\n"
     ]
    }
   ],
   "source": [
    "# Compare the actual dataset and the dataset we just generated \n",
    "print(zomato_df.shape) \n",
    "print(final_df.shape)"
   ]
  },
  {
   "cell_type": "code",
   "execution_count": 34,
   "id": "9d1e10e3",
   "metadata": {},
   "outputs": [
    {
     "name": "stdout",
     "output_type": "stream",
     "text": [
      "<class 'pandas.core.frame.DataFrame'>\n",
      "RangeIndex: 9577 entries, 0 to 9576\n",
      "Data columns (total 21 columns):\n",
      " #   Column                Non-Null Count  Dtype \n",
      "---  ------                --------------  ----- \n",
      " 0   Restaurant ID         9577 non-null   int64 \n",
      " 1   Restaurant Name       9577 non-null   object\n",
      " 2   Country Code          9577 non-null   int64 \n",
      " 3   City                  9577 non-null   object\n",
      " 4   Address               9577 non-null   object\n",
      " 5   Locality              9577 non-null   object\n",
      " 6   Locality Verbose      9577 non-null   object\n",
      " 7   Longitude             9577 non-null   object\n",
      " 8   Latitude              9577 non-null   object\n",
      " 9   Cuisines              9577 non-null   object\n",
      " 10  Average Cost for two  9577 non-null   int64 \n",
      " 11  Currency              9577 non-null   object\n",
      " 12  Has Table booking     9577 non-null   int64 \n",
      " 13  Has Online delivery   9577 non-null   int64 \n",
      " 14  Is delivering now     9577 non-null   int64 \n",
      " 15  Switch to order menu  9577 non-null   int64 \n",
      " 16  Price range           9577 non-null   int64 \n",
      " 17  Aggregate rating      9577 non-null   object\n",
      " 18  Rating color          9577 non-null   object\n",
      " 19  Rating text           9577 non-null   object\n",
      " 20  Votes                 9577 non-null   object\n",
      "dtypes: int64(8), object(13)\n",
      "memory usage: 1.5+ MB\n"
     ]
    }
   ],
   "source": [
    "final_df.info()"
   ]
  },
  {
   "cell_type": "code",
   "execution_count": 35,
   "id": "99a48f8d",
   "metadata": {},
   "outputs": [
    {
     "data": {
      "text/plain": [
       "9577"
      ]
     },
     "execution_count": 35,
     "metadata": {},
     "output_type": "execute_result"
    }
   ],
   "source": [
    "len(final_df['Restaurant ID'].value_counts())"
   ]
  },
  {
   "cell_type": "code",
   "execution_count": 36,
   "id": "c17b403d",
   "metadata": {},
   "outputs": [
    {
     "data": {
      "text/plain": [
       "9551"
      ]
     },
     "execution_count": 36,
     "metadata": {},
     "output_type": "execute_result"
    }
   ],
   "source": [
    "len(zomato_df['Restaurant ID'].value_counts())"
   ]
  }
 ],
 "metadata": {
  "kernelspec": {
   "display_name": "Python 3",
   "language": "python",
   "name": "python3"
  },
  "language_info": {
   "codemirror_mode": {
    "name": "ipython",
    "version": 3
   },
   "file_extension": ".py",
   "mimetype": "text/x-python",
   "name": "python",
   "nbconvert_exporter": "python",
   "pygments_lexer": "ipython3",
   "version": "3.8.8"
  }
 },
 "nbformat": 4,
 "nbformat_minor": 5
}
